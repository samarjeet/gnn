{
 "cells": [
  {
   "cell_type": "code",
   "execution_count": 1,
   "id": "b2a6df87",
   "metadata": {},
   "outputs": [],
   "source": [
    "import torch \n",
    "from torch_geometric.data import Data"
   ]
  },
  {
   "cell_type": "code",
   "execution_count": 2,
   "id": "3eb305b1",
   "metadata": {},
   "outputs": [],
   "source": [
    "edge_index = torch.tensor([[0, 1, 1, 2], \n",
    "                           [1, 0, 2, 1]], dtype=torch.long)"
   ]
  },
  {
   "cell_type": "code",
   "execution_count": 5,
   "id": "4d4de17e",
   "metadata": {},
   "outputs": [],
   "source": [
    "x = torch.tensor([[-1], [0], [1]], dtype=torch.float)"
   ]
  },
  {
   "cell_type": "code",
   "execution_count": 7,
   "id": "5e5299c0",
   "metadata": {},
   "outputs": [],
   "source": [
    "data = Data(x=x, edge_index=edge_index)"
   ]
  },
  {
   "cell_type": "code",
   "execution_count": 11,
   "id": "936bb954",
   "metadata": {},
   "outputs": [
    {
     "data": {
      "text/plain": [
       "['x', 'edge_index']"
      ]
     },
     "execution_count": 11,
     "metadata": {},
     "output_type": "execute_result"
    }
   ],
   "source": [
    "data.keys"
   ]
  },
  {
   "cell_type": "code",
   "execution_count": 13,
   "id": "c8e0ac81",
   "metadata": {},
   "outputs": [
    {
     "data": {
      "text/plain": [
       "tensor([[-1.],\n",
       "        [ 0.],\n",
       "        [ 1.]])"
      ]
     },
     "execution_count": 13,
     "metadata": {},
     "output_type": "execute_result"
    }
   ],
   "source": [
    "data.x"
   ]
  },
  {
   "cell_type": "code",
   "execution_count": 14,
   "id": "60cab416",
   "metadata": {},
   "outputs": [
    {
     "data": {
      "text/plain": [
       "tensor([[0, 1, 1, 2],\n",
       "        [1, 0, 2, 1]])"
      ]
     },
     "execution_count": 14,
     "metadata": {},
     "output_type": "execute_result"
    }
   ],
   "source": [
    "data.edge_index"
   ]
  },
  {
   "cell_type": "code",
   "execution_count": 15,
   "id": "401129d8",
   "metadata": {},
   "outputs": [
    {
     "data": {
      "text/plain": [
       "3"
      ]
     },
     "execution_count": 15,
     "metadata": {},
     "output_type": "execute_result"
    }
   ],
   "source": [
    "data.num_nodes"
   ]
  },
  {
   "cell_type": "code",
   "execution_count": 16,
   "id": "08baf36a",
   "metadata": {},
   "outputs": [
    {
     "data": {
      "text/plain": [
       "4"
      ]
     },
     "execution_count": 16,
     "metadata": {},
     "output_type": "execute_result"
    }
   ],
   "source": [
    "data.num_edges"
   ]
  },
  {
   "cell_type": "code",
   "execution_count": 17,
   "id": "ee835a2c",
   "metadata": {},
   "outputs": [
    {
     "data": {
      "text/plain": [
       "False"
      ]
     },
     "execution_count": 17,
     "metadata": {},
     "output_type": "execute_result"
    }
   ],
   "source": [
    "data.is_directed()"
   ]
  },
  {
   "cell_type": "code",
   "execution_count": 19,
   "id": "bea73ad9",
   "metadata": {},
   "outputs": [],
   "source": [
    "from torch_geometric.datasets import TUDataset"
   ]
  },
  {
   "cell_type": "code",
   "execution_count": 42,
   "id": "2b9897c0",
   "metadata": {},
   "outputs": [],
   "source": [
    "dataset = TUDataset(root='data/ENZYMES', name='ENZYMES')"
   ]
  },
  {
   "cell_type": "code",
   "execution_count": 43,
   "id": "79026594",
   "metadata": {},
   "outputs": [
    {
     "data": {
      "text/plain": [
       "600"
      ]
     },
     "execution_count": 43,
     "metadata": {},
     "output_type": "execute_result"
    }
   ],
   "source": [
    "len(dataset) # There are 600 graphs in this dataset"
   ]
  },
  {
   "cell_type": "code",
   "execution_count": 44,
   "id": "6263165b",
   "metadata": {},
   "outputs": [
    {
     "data": {
      "text/plain": [
       "6"
      ]
     },
     "execution_count": 44,
     "metadata": {},
     "output_type": "execute_result"
    }
   ],
   "source": [
    "dataset.num_classes"
   ]
  },
  {
   "cell_type": "code",
   "execution_count": 45,
   "id": "3324c9e0",
   "metadata": {},
   "outputs": [
    {
     "data": {
      "text/plain": [
       "3"
      ]
     },
     "execution_count": 45,
     "metadata": {},
     "output_type": "execute_result"
    }
   ],
   "source": [
    "dataset.num_node_features"
   ]
  },
  {
   "cell_type": "code",
   "execution_count": 36,
   "id": "ef74addc",
   "metadata": {},
   "outputs": [],
   "source": [
    "data = dataset[0]"
   ]
  },
  {
   "cell_type": "code",
   "execution_count": 37,
   "id": "f21c3846",
   "metadata": {},
   "outputs": [
    {
     "data": {
      "text/plain": [
       "Data(edge_index=[2, 168], x=[37, 3], y=[1])"
      ]
     },
     "execution_count": 37,
     "metadata": {},
     "output_type": "execute_result"
    }
   ],
   "source": [
    "data # This graph has 168 edges and 37 nodes. Each node has 3 features"
   ]
  },
  {
   "cell_type": "code",
   "execution_count": 38,
   "id": "1202fb20",
   "metadata": {},
   "outputs": [
    {
     "data": {
      "text/plain": [
       "Data(edge_index=[2, 102], x=[23, 3], y=[1])"
      ]
     },
     "execution_count": 38,
     "metadata": {},
     "output_type": "execute_result"
    }
   ],
   "source": [
    "dataset[1]"
   ]
  },
  {
   "cell_type": "code",
   "execution_count": 39,
   "id": "7eca2746",
   "metadata": {},
   "outputs": [],
   "source": [
    "from torch_geometric.datasets import Planetoid"
   ]
  },
  {
   "cell_type": "code",
   "execution_count": 46,
   "id": "d7ca31ae",
   "metadata": {},
   "outputs": [],
   "source": [
    "dataset = Planetoid(root='data/Cora', name='Cora')"
   ]
  },
  {
   "cell_type": "code",
   "execution_count": 47,
   "id": "840ea862",
   "metadata": {},
   "outputs": [
    {
     "data": {
      "text/plain": [
       "1"
      ]
     },
     "execution_count": 47,
     "metadata": {},
     "output_type": "execute_result"
    }
   ],
   "source": [
    "len(dataset)"
   ]
  },
  {
   "cell_type": "code",
   "execution_count": 48,
   "id": "a23f1e9e",
   "metadata": {},
   "outputs": [
    {
     "data": {
      "text/plain": [
       "Data(edge_index=[2, 10556], test_mask=[2708], train_mask=[2708], val_mask=[2708], x=[2708, 1433], y=[2708])"
      ]
     },
     "execution_count": 48,
     "metadata": {},
     "output_type": "execute_result"
    }
   ],
   "source": [
    "dataset[0]"
   ]
  },
  {
   "cell_type": "code",
   "execution_count": 49,
   "id": "57b0232f",
   "metadata": {},
   "outputs": [
    {
     "data": {
      "text/plain": [
       "tensor(140)"
      ]
     },
     "execution_count": 49,
     "metadata": {},
     "output_type": "execute_result"
    }
   ],
   "source": [
    "dataset[0].train_mask.sum()"
   ]
  },
  {
   "cell_type": "code",
   "execution_count": 50,
   "id": "a71f48fb",
   "metadata": {},
   "outputs": [],
   "source": [
    "from torch_geometric.data import DataLoader"
   ]
  },
  {
   "cell_type": "code",
   "execution_count": 51,
   "id": "91ac0a9c",
   "metadata": {},
   "outputs": [],
   "source": [
    "dataset = TUDataset(root='data/ENZYMES', name='ENZYMES', use_node_attr=True)\n",
    "loader = DataLoader(dataset, batch_size=32, shuffle=True)"
   ]
  },
  {
   "cell_type": "code",
   "execution_count": 53,
   "id": "f5852a58",
   "metadata": {},
   "outputs": [
    {
     "name": "stdout",
     "output_type": "stream",
     "text": [
      "Batch(batch=[1014], edge_index=[2, 4026], ptr=[33], x=[1014, 21], y=[32])\n",
      "32\n",
      "Batch(batch=[981], edge_index=[2, 3786], ptr=[33], x=[981, 21], y=[32])\n",
      "32\n",
      "Batch(batch=[1052], edge_index=[2, 4144], ptr=[33], x=[1052, 21], y=[32])\n",
      "32\n",
      "Batch(batch=[893], edge_index=[2, 3598], ptr=[33], x=[893, 21], y=[32])\n",
      "32\n",
      "Batch(batch=[1286], edge_index=[2, 4396], ptr=[33], x=[1286, 21], y=[32])\n",
      "32\n",
      "Batch(batch=[1004], edge_index=[2, 3918], ptr=[33], x=[1004, 21], y=[32])\n",
      "32\n",
      "Batch(batch=[1128], edge_index=[2, 4284], ptr=[33], x=[1128, 21], y=[32])\n",
      "32\n",
      "Batch(batch=[1012], edge_index=[2, 3654], ptr=[33], x=[1012, 21], y=[32])\n",
      "32\n",
      "Batch(batch=[1131], edge_index=[2, 4346], ptr=[33], x=[1131, 21], y=[32])\n",
      "32\n",
      "Batch(batch=[1089], edge_index=[2, 4088], ptr=[33], x=[1089, 21], y=[32])\n",
      "32\n",
      "Batch(batch=[1167], edge_index=[2, 4246], ptr=[33], x=[1167, 21], y=[32])\n",
      "32\n",
      "Batch(batch=[1029], edge_index=[2, 3878], ptr=[33], x=[1029, 21], y=[32])\n",
      "32\n",
      "Batch(batch=[994], edge_index=[2, 3678], ptr=[33], x=[994, 21], y=[32])\n",
      "32\n",
      "Batch(batch=[1065], edge_index=[2, 4078], ptr=[33], x=[1065, 21], y=[32])\n",
      "32\n",
      "Batch(batch=[975], edge_index=[2, 3848], ptr=[33], x=[975, 21], y=[32])\n",
      "32\n",
      "Batch(batch=[1035], edge_index=[2, 4036], ptr=[33], x=[1035, 21], y=[32])\n",
      "32\n",
      "Batch(batch=[1070], edge_index=[2, 4192], ptr=[33], x=[1070, 21], y=[32])\n",
      "32\n",
      "Batch(batch=[930], edge_index=[2, 3540], ptr=[33], x=[930, 21], y=[32])\n",
      "32\n",
      "Batch(batch=[725], edge_index=[2, 2828], ptr=[25], x=[725, 21], y=[24])\n",
      "24\n"
     ]
    }
   ],
   "source": [
    "for batch in loader :\n",
    "    print(batch)\n",
    "    print(batch.num_graphs)"
   ]
  },
  {
   "cell_type": "code",
   "execution_count": 56,
   "id": "d59db9d1",
   "metadata": {},
   "outputs": [
    {
     "data": {
      "text/plain": [
       "600"
      ]
     },
     "execution_count": 56,
     "metadata": {},
     "output_type": "execute_result"
    }
   ],
   "source": [
    "len(dataset)"
   ]
  },
  {
   "cell_type": "code",
   "execution_count": null,
   "id": "9e375db5",
   "metadata": {},
   "outputs": [],
   "source": []
  }
 ],
 "metadata": {
  "kernelspec": {
   "display_name": "Python 3",
   "language": "python",
   "name": "python3"
  },
  "language_info": {
   "codemirror_mode": {
    "name": "ipython",
    "version": 3
   },
   "file_extension": ".py",
   "mimetype": "text/x-python",
   "name": "python",
   "nbconvert_exporter": "python",
   "pygments_lexer": "ipython3",
   "version": "3.9.2"
  }
 },
 "nbformat": 4,
 "nbformat_minor": 5
}
