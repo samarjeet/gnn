{
 "cells": [
  {
   "cell_type": "code",
   "execution_count": 1,
   "id": "ac960327",
   "metadata": {},
   "outputs": [
    {
     "name": "stderr",
     "output_type": "stream",
     "text": [
      "pybullet build time: Aug 20 2021 22:17:23\n"
     ]
    }
   ],
   "source": [
    "import pybullet as p\n",
    "import pybullet_data"
   ]
  },
  {
   "cell_type": "code",
   "execution_count": 2,
   "id": "c930d10b",
   "metadata": {},
   "outputs": [],
   "source": [
    "client = p.connect(p.DIRECT)"
   ]
  },
  {
   "cell_type": "code",
   "execution_count": 3,
   "id": "f126eecd",
   "metadata": {},
   "outputs": [],
   "source": [
    "p.setGravity(0, 0, -10, physicsClientId=client)"
   ]
  },
  {
   "cell_type": "code",
   "execution_count": 4,
   "id": "ddd02f91",
   "metadata": {},
   "outputs": [],
   "source": [
    "p.setAdditionalSearchPath(pybullet_data.getDataPath())\n",
    "planeId = p.loadURDF(\"plane.urdf\")"
   ]
  },
  {
   "cell_type": "code",
   "execution_count": 5,
   "id": "1e9bb3b8",
   "metadata": {},
   "outputs": [],
   "source": [
    "carId = p.loadURDF(\"racecar/racecar.urdf\", basePosition=[0,0,0.2])"
   ]
  },
  {
   "cell_type": "code",
   "execution_count": 6,
   "id": "4a10175b",
   "metadata": {},
   "outputs": [],
   "source": [
    "position, orientation = p.getBasePositionAndOrientation(carId)"
   ]
  },
  {
   "cell_type": "code",
   "execution_count": 7,
   "id": "7b02e193",
   "metadata": {},
   "outputs": [
    {
     "data": {
      "text/plain": [
       "(0.0, 0.0, 0.2)"
      ]
     },
     "execution_count": 7,
     "metadata": {},
     "output_type": "execute_result"
    }
   ],
   "source": [
    "position"
   ]
  },
  {
   "cell_type": "code",
   "execution_count": 8,
   "id": "1e3fc508",
   "metadata": {},
   "outputs": [
    {
     "data": {
      "text/plain": [
       "(0.0, 0.0, 0.0, 1.0)"
      ]
     },
     "execution_count": 8,
     "metadata": {},
     "output_type": "execute_result"
    }
   ],
   "source": [
    "orientation"
   ]
  },
  {
   "cell_type": "code",
   "execution_count": 9,
   "id": "a6174e8b",
   "metadata": {},
   "outputs": [],
   "source": [
    "for _ in range(100):\n",
    "    p.stepSimulation()"
   ]
  },
  {
   "cell_type": "code",
   "execution_count": 10,
   "id": "b248c03f",
   "metadata": {},
   "outputs": [],
   "source": [
    "for _ in range(300):\n",
    "    pos, ori = p.getBasePositionAndOrientation(carId)\n",
    "    p.applyExternalForce(carId, 0, [50,0,0], pos, p.WORLD_FRAME)\n",
    "    p.stepSimulation()"
   ]
  },
  {
   "cell_type": "code",
   "execution_count": 12,
   "id": "b5ec2406",
   "metadata": {},
   "outputs": [
    {
     "name": "stdout",
     "output_type": "stream",
     "text": [
      "(0, b'base_link_joint', 4, -1, -1, 0, 0.0, 0.0, 0.0, -1.0, 0.0, 0.0, b'chassis', (0.0, 0.0, 0.0), (0.0, 0.0, 0.05), (0.0, 0.0, 0.0, 1.0), -1)\n",
      "(1, b'chassis_inertia_joint', 4, -1, -1, 0, 0.0, 0.0, 0.0, -1.0, 0.0, 0.0, b'chassis_inertia', (0.0, 0.0, 0.0), (0.0, 0.0, 0.0), (0.0, 0.0, 0.0, 1.0), 0)\n",
      "(2, b'left_rear_wheel_joint', 0, 7, 6, 1, 0.0, 0.0, 0.0, -1.0, 10.0, 100.0, b'left_rear_wheel', (0.0, 0.0, -1.0), (0.0, 0.1, 0.0), (-0.7071080798594737, 0.0, 0.0, 0.7071054825112363), 0)\n",
      "(3, b'right_rear_wheel_joint', 0, 8, 7, 1, 0.0, 0.0, 0.0, -1.0, 10.0, 100.0, b'right_rear_wheel', (0.0, 0.0, -1.0), (0.0, -0.1, 0.0), (-0.7071080798594737, 0.0, 0.0, 0.7071054825112363), 0)\n",
      "(4, b'left_steering_hinge_joint', 0, 9, 8, 1, 0.0, 0.0, -1.0, 1.0, 10.0, 100.0, b'left_steering_hinge', (-1.0, 0.0, 0.0), (0.325, 0.1, 0.0), (0.0, -0.7071080798594737, 0.0, 0.7071054825112363), 0)\n",
      "(5, b'left_front_wheel_joint', 0, 10, 9, 1, 0.0, 0.0, 0.0, -1.0, 10.0, 100.0, b'left_front_wheel', (0.0, 0.0, -1.0), (0.0, 0.0, 0.0), (-0.7071080798594737, 0.0, 0.0, 0.7071054825112363), 4)\n",
      "(6, b'right_steering_hinge_joint', 0, 11, 10, 1, 0.0, 0.0, -1.0, 1.0, 10.0, 100.0, b'right_steering_hinge', (-1.0, 0.0, 0.0), (0.325, -0.1, 0.0), (0.0, -0.7071080798594737, 0.0, 0.7071054825112363), 0)\n",
      "(7, b'right_front_wheel_joint', 0, 12, 11, 1, 0.0, 0.0, 0.0, -1.0, 10.0, 100.0, b'right_front_wheel', (0.0, 0.0, -1.0), (0.0, 0.0, 0.0), (-0.7071080798594737, 0.0, 0.0, 0.7071054825112363), 6)\n",
      "(8, b'hokuyo_joint', 4, -1, -1, 0, 0.0, 0.0, 0.0, -1.0, 0.0, 0.0, b'laser', (0.0, 0.0, 0.0), (0.265, 0.0, 0.075), (0.0, 0.0, 0.0, 1.0), 0)\n",
      "(9, b'zed_camera_joint', 4, -1, -1, 0, 0.0, 0.0, 0.0, -1.0, 0.0, 0.0, b'zed_camera_link', (0.0, 0.0, 0.0), (0.39, 0.0, 0.04), (0.0, 0.0, 0.0, 1.0), 0)\n",
      "(10, b'zed_camera_left_joint', 4, -1, -1, 0, 0.0, 0.0, 0.0, -1.0, 0.0, 0.0, b'camera_link', (0.0, 0.0, 0.0), (0.0, 0.06, 0.0), (0.0, 0.0, 0.0, 1.0), 9)\n",
      "(11, b'zed_camera_right_joint', 4, -1, -1, 0, 0.0, 0.0, 0.0, -1.0, 0.0, 0.0, b'zed_camera_right_link', (0.0, 0.0, 0.0), (0.0, -0.06, 0.0), (0.0, 0.0, 0.0, 1.0), 9)\n"
     ]
    }
   ],
   "source": [
    "num_joints = p.getNumJoints(carId)\n",
    "for joint in range(num_joints):\n",
    "    info = p.getJointInfo(carId, joint)\n",
    "    print(info)"
   ]
  },
  {
   "cell_type": "code",
   "execution_count": 16,
   "id": "282e5fab",
   "metadata": {},
   "outputs": [
    {
     "data": {
      "text/plain": [
       "(11,\n",
       " b'zed_camera_right_joint',\n",
       " 4,\n",
       " -1,\n",
       " -1,\n",
       " 0,\n",
       " 0.0,\n",
       " 0.0,\n",
       " 0.0,\n",
       " -1.0,\n",
       " 0.0,\n",
       " 0.0,\n",
       " b'zed_camera_right_link',\n",
       " (0.0, 0.0, 0.0),\n",
       " (0.0, -0.06, 0.0),\n",
       " (0.0, 0.0, 0.0, 1.0),\n",
       " 9)"
      ]
     },
     "execution_count": 16,
     "metadata": {},
     "output_type": "execute_result"
    }
   ],
   "source": [
    "info"
   ]
  },
  {
   "cell_type": "code",
   "execution_count": 17,
   "id": "2dc63499",
   "metadata": {
    "scrolled": true
   },
   "outputs": [
    {
     "data": {
      "text/plain": [
       "12"
      ]
     },
     "execution_count": 17,
     "metadata": {},
     "output_type": "execute_result"
    }
   ],
   "source": [
    "num_joints"
   ]
  },
  {
   "cell_type": "code",
   "execution_count": null,
   "id": "8dae7f6a",
   "metadata": {},
   "outputs": [],
   "source": []
  }
 ],
 "metadata": {
  "kernelspec": {
   "display_name": "Python 3 (ipykernel)",
   "language": "python",
   "name": "python3"
  },
  "language_info": {
   "codemirror_mode": {
    "name": "ipython",
    "version": 3
   },
   "file_extension": ".py",
   "mimetype": "text/x-python",
   "name": "python",
   "nbconvert_exporter": "python",
   "pygments_lexer": "ipython3",
   "version": "3.8.10"
  }
 },
 "nbformat": 4,
 "nbformat_minor": 5
}
