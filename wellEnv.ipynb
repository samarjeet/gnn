{
 "cells": [
  {
   "cell_type": "code",
   "execution_count": 2,
   "id": "dbdc71fa",
   "metadata": {},
   "outputs": [],
   "source": [
    "import gym\n",
    "from gym import spaces\n",
    "from simtk import openmm as om"
   ]
  },
  {
   "cell_type": "code",
   "execution_count": null,
   "id": "6eee049d",
   "metadata": {},
   "outputs": [],
   "source": [
    "class TwoWell(gym.Env):\n",
    "    def __init__(self):\n",
    "        super(TwoWell, self).__init__()\n",
    "        \n",
    "        self.action_space = 0\n",
    "        self.observation_space = 0\n",
    "    \n",
    "    def step(self, action):\n",
    "        pass\n",
    "    \n",
    "    def reset(self):\n",
    "        pass\n",
    "    \n",
    "    def render(self):\n",
    "        pass\n",
    "    \n",
    "    def close(self):\n",
    "        pass\n",
    "    \n",
    "    def seed(self, seed=None):\n",
    "        pass\n",
    "    "
   ]
  },
  {
   "cell_type": "code",
   "execution_count": null,
   "id": "5cd00759",
   "metadata": {},
   "outputs": [],
   "source": []
  }
 ],
 "metadata": {
  "kernelspec": {
   "display_name": "Python 3 (ipykernel)",
   "language": "python",
   "name": "python3"
  },
  "language_info": {
   "codemirror_mode": {
    "name": "ipython",
    "version": 3
   },
   "file_extension": ".py",
   "mimetype": "text/x-python",
   "name": "python",
   "nbconvert_exporter": "python",
   "pygments_lexer": "ipython3",
   "version": "3.8.10"
  }
 },
 "nbformat": 4,
 "nbformat_minor": 5
}
