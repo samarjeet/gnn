{
 "cells": [
  {
   "cell_type": "code",
   "execution_count": 2,
   "id": "dbdc71fa",
   "metadata": {},
   "outputs": [],
   "source": [
    "import gym\n",
    "from gym import spaces\n",
    "from simtk import openmm as om"
   ]
  },
  {
   "cell_type": "code",
   "execution_count": null,
   "id": "6eee049d",
   "metadata": {},
   "outputs": [],
   "source": [
    "class TwoWell(gym.Env):\n",
    "    def __init__(self):\n",
    "        super(TwoWell, self).__init__()\n",
    "        \n",
    "        self.action_space = 0\n",
    "        self.observation_space = 0\n",
    "    \n",
    "    def step(self, action):\n",
    "        pass\n",
    "    \n",
    "    def reset(self):\n",
    "        pass\n",
    "    \n",
    "    def render(self):\n",
    "        pass"
   ]
  },
  {
   "cell_type": "code",
   "execution_count": 1,
   "id": "488d3387",
   "metadata": {},
   "outputs": [
    {
     "name": "stdout",
     "output_type": "stream",
     "text": [
      "Fri Aug 20 23:20:26 2021       \r\n",
      "+-----------------------------------------------------------------------------+\r\n",
      "| NVIDIA-SMI 460.73.01    Driver Version: 460.73.01    CUDA Version: 11.2     |\r\n",
      "|-------------------------------+----------------------+----------------------+\r\n",
      "| GPU  Name        Persistence-M| Bus-Id        Disp.A | Volatile Uncorr. ECC |\r\n",
      "| Fan  Temp  Perf  Pwr:Usage/Cap|         Memory-Usage | GPU-Util  Compute M. |\r\n",
      "|                               |                      |               MIG M. |\r\n",
      "|===============================+======================+======================|\r\n",
      "|   0  Tesla V100-PCIE...  Off  | 00000000:19:00.0 Off |                    0 |\r\n",
      "| N/A   44C    P0    37W / 250W |      0MiB / 16160MiB |      0%      Default |\r\n",
      "|                               |                      |                  N/A |\r\n",
      "+-------------------------------+----------------------+----------------------+\r\n",
      "|   1  Tesla V100-PCIE...  Off  | 00000000:1A:00.0 Off |                    0 |\r\n",
      "| N/A   68C    P0   198W / 250W |   1093MiB / 16160MiB |    100%      Default |\r\n",
      "|                               |                      |                  N/A |\r\n",
      "+-------------------------------+----------------------+----------------------+\r\n",
      "                                                                               \r\n",
      "+-----------------------------------------------------------------------------+\r\n",
      "| Processes:                                                                  |\r\n",
      "|  GPU   GI   CI        PID   Type   Process name                  GPU Memory |\r\n",
      "|        ID   ID                                                   Usage      |\r\n",
      "|=============================================================================|\r\n",
      "|    1   N/A  N/A     16531      C   python                           1089MiB |\r\n",
      "+-----------------------------------------------------------------------------+\r\n"
     ]
    }
   ],
   "source": [
    "!nvidia-smi"
   ]
  },
  {
   "cell_type": "code",
   "execution_count": 3,
   "id": "51bf1503",
   "metadata": {},
   "outputs": [
    {
     "name": "stdout",
     "output_type": "stream",
     "text": [
      "\u001b[?1h\u001b=\u001b[H\u001b[2J\u001b[mtop - 23:21:06 up 109 days, 11:19,  0 users,  load average: 2.21, 3.10, 3.21\u001b[m\u001b[m\u001b[m\u001b[m\u001b[K\n",
      "Tasks:\u001b[m\u001b[m\u001b[1m 190 \u001b[m\u001b[mtotal,\u001b[m\u001b[m\u001b[1m   3 \u001b[m\u001b[mrunning,\u001b[m\u001b[m\u001b[1m 187 \u001b[m\u001b[msleeping,\u001b[m\u001b[m\u001b[1m   0 \u001b[m\u001b[mstopped,\u001b[m\u001b[m\u001b[1m   0 \u001b[m\u001b[mzombie\u001b[m\u001b[m\u001b[m\u001b[m\u001b[K\n",
      "%Cpu(s):\u001b[m\u001b[m\u001b[1m 24.7 \u001b[m\u001b[mus,\u001b[m\u001b[m\u001b[1m 10.3 \u001b[m\u001b[msy,\u001b[m\u001b[m\u001b[1m  0.0 \u001b[m\u001b[mni,\u001b[m\u001b[m\u001b[1m 64.9 \u001b[m\u001b[mid,\u001b[m\u001b[m\u001b[1m  0.0 \u001b[m\u001b[mwa,\u001b[m\u001b[m\u001b[1m  0.0 \u001b[m\u001b[mhi,\u001b[m\u001b[m\u001b[1m  0.0 \u001b[m\u001b[msi,\u001b[m\u001b[m\u001b[1m  0.0 \u001b[m\u001b[mst\u001b[m\u001b[m\u001b[m\u001b[m\u001b[K\n",
      "KiB Mem :\u001b[m\u001b[m\u001b[1m 48794100 \u001b[m\u001b[mtotal,\u001b[m\u001b[m\u001b[1m 40322284 \u001b[m\u001b[mfree,\u001b[m\u001b[m\u001b[1m  5857256 \u001b[m\u001b[mused,\u001b[m\u001b[m\u001b[1m  2614560 \u001b[m\u001b[mbuff/cache\u001b[m\u001b[m\u001b[m\u001b[m\u001b[K\n",
      "KiB Swap:\u001b[m\u001b[m\u001b[1m  4194300 \u001b[m\u001b[mtotal,\u001b[m\u001b[m\u001b[1m  4187388 \u001b[m\u001b[mfree,\u001b[m\u001b[m\u001b[1m     6912 \u001b[m\u001b[mused.\u001b[m\u001b[m\u001b[1m 42094768 \u001b[m\u001b[mavail Mem \u001b[m\u001b[m\u001b[m\u001b[m\u001b[K\n",
      "\u001b[K\n",
      "\u001b[7m   PID USER      PR  NI    VIRT    RES    SHR S  %CPU %MEM     TIME+ COMMAND    \u001b[m\u001b[m\u001b[K\n",
      "\u001b[m\u001b[1m 16531 hank      20   0 9900.9m   3.6g 165784 R  93.8  7.8  45:27.84 python -u+ \u001b[m\u001b[m\u001b[K\n",
      "\u001b[m\u001b[1m 15047 samar     20   0   19.2g 556376 197012 R  81.2  1.1  40:08.95 /u/samar/+ \u001b[m\u001b[m\u001b[K\n",
      "\u001b[m 16556 samar     20   0   15.1g  20136   6500 S   6.2  0.0   0:51.81 /u/samar/+ \u001b[m\u001b[m\u001b[K\n",
      "\u001b[m     1 root      20   0  191696   4296   2304 S   0.0  0.0  45:29.16 /usr/lib/+ \u001b[m\u001b[m\u001b[K\n",
      "\u001b[m     2 root      20   0       0      0      0 S   0.0  0.0   0:03.60 [kthreadd] \u001b[m\u001b[m\u001b[K\n",
      "\u001b[m     3 root      20   0       0      0      0 S   0.0  0.0   0:40.88 [ksoftirq+ \u001b[m\u001b[m\u001b[K\n",
      "\u001b[m     7 root      rt   0       0      0      0 S   0.0  0.0   2:37.08 [migratio+ \u001b[m\u001b[m\u001b[K\n",
      "\u001b[m     8 root      20   0       0      0      0 S   0.0  0.0   0:00.00 [rcu_bh]   \u001b[m\u001b[m\u001b[K\n",
      "\u001b[m     9 root      20   0       0      0      0 S   0.0  0.0  72:38.79 [rcu_sche+ \u001b[m\u001b[m\u001b[K\n",
      "\u001b[m    10 root       0 -20       0      0      0 S   0.0  0.0   0:00.00 [lru-add-+ \u001b[m\u001b[m\u001b[K\n",
      "\u001b[m    11 root      rt   0       0      0      0 S   0.0  0.0   0:51.05 [watchdog+ \u001b[m\u001b[m\u001b[K\n",
      "\u001b[m    12 root      rt   0       0      0      0 S   0.0  0.0   0:49.06 [watchdog+ \u001b[m\u001b[m\u001b[K\n",
      "\u001b[m    13 root      rt   0       0      0      0 S   0.0  0.0   1:11.80 [migratio+ \u001b[m\u001b[m\u001b[K\n",
      "\u001b[m    14 root      20   0       0      0      0 S   0.0  0.0   0:44.38 [ksoftirq+ \u001b[m\u001b[m\u001b[K\n",
      "\u001b[m    17 root      rt   0       0      0      0 S   0.0  0.0   0:40.34 [watchdog+ \u001b[m\u001b[m\u001b[K\n",
      "\u001b[m    18 root      rt   0       0      0      0 S   0.0  0.0   0:52.85 [migratio+ \u001b[m\u001b[m\u001b[K\n",
      "\u001b[m    19 root      20   0       0      0      0 S   0.0  0.0   0:16.60 [ksoftirq+ \u001b[m\u001b[m\u001b[K\u001b[H\u001b[mtop - 23:21:09 up 109 days, 11:19,  0 users,  load average: 2.21, 3.10, 3.21\u001b[m\u001b[m\u001b[m\u001b[m\u001b[K\n",
      "\n",
      "%Cpu(s):\u001b[m\u001b[m\u001b[1m 24.6 \u001b[m\u001b[mus,\u001b[m\u001b[m\u001b[1m 13.6 \u001b[m\u001b[msy,\u001b[m\u001b[m\u001b[1m  0.0 \u001b[m\u001b[mni,\u001b[m\u001b[m\u001b[1m 61.5 \u001b[m\u001b[mid,\u001b[m\u001b[m\u001b[1m  0.0 \u001b[m\u001b[mwa,\u001b[m\u001b[m\u001b[1m  0.0 \u001b[m\u001b[mhi,\u001b[m\u001b[m\u001b[1m  0.3 \u001b[m\u001b[msi,\u001b[m\u001b[m\u001b[1m  0.0 \u001b[m\u001b[mst\u001b[m\u001b[m\u001b[m\u001b[m\u001b[K\n",
      "KiB Mem :\u001b[m\u001b[m\u001b[1m 48794100 \u001b[m\u001b[mtotal,\u001b[m\u001b[m\u001b[1m 40321420 \u001b[m\u001b[mfree,\u001b[m\u001b[m\u001b[1m  5857988 \u001b[m\u001b[mused,\u001b[m\u001b[m\u001b[1m  2614692 \u001b[m\u001b[mbuff/cache\u001b[m\u001b[m\u001b[m\u001b[m\u001b[K\n",
      "KiB Swap:\u001b[m\u001b[m\u001b[1m  4194300 \u001b[m\u001b[mtotal,\u001b[m\u001b[m\u001b[1m  4187388 \u001b[m\u001b[mfree,\u001b[m\u001b[m\u001b[1m     6912 \u001b[m\u001b[mused.\u001b[m\u001b[m\u001b[1m 42093924 \u001b[m\u001b[mavail Mem \u001b[m\u001b[m\u001b[m\u001b[m\u001b[K\n",
      "\u001b[K\n",
      "\n",
      "\u001b[m\u001b[1m 16531 hank      20   0 9900.9m   3.6g 165784 R 100.0  7.8  45:30.85 python -u+ \u001b[m\u001b[m\u001b[K\n",
      "\u001b[m\u001b[1m 15047 samar     20   0   19.2g 556376 197012 R  84.7  1.1  40:11.50 /u/samar/+ \u001b[m\u001b[m\u001b[K\n",
      "\u001b[m 16578 samar     20   0 2745364 197300  76748 S  12.3  0.4   5:00.73 /u/samar/+ \u001b[m\u001b[m\u001b[K\n",
      "\u001b[m    11 root      rt   0       0      0      0 S   6.6  0.0   0:51.25 [watchdog+ \u001b[m\u001b[m\u001b[K\n",
      "\u001b[m 16501 samar     20   0  181196  15348   4316 S   4.7  0.0   1:58.34 /u/samar/+ \u001b[m\u001b[m\u001b[K\n",
      "\u001b[m 16598 samar     20   0   14.8g  59396  18700 S   4.3  0.1   0:51.04 ray::IDLE  \u001b[m\u001b[m\u001b[K\n",
      "\u001b[m 17567 root     -51   0       0      0      0 S   2.7  0.0   0:12.25 [irq/65-n+ \u001b[m\u001b[m\u001b[K\n",
      "\u001b[m 16603 samar     20   0   14.8g  57352  18680 S   2.3  0.1   0:53.40 ray::IDLE  \u001b[m\u001b[m\u001b[K\n",
      "\u001b[m 16526 samar     20   0 3098464 201136  77260 S   1.7  0.4   0:25.36 /u/samar/+ \u001b[m\u001b[m\u001b[K\n",
      "\u001b[m 16556 samar     20   0   15.1g  20136   6500 S   1.7  0.0   0:51.86 /u/samar/+ \u001b[m\u001b[m\u001b[K\n",
      "\u001b[m 82969 root      20   0       0      0      0 S   1.7  0.0   1:11.78 [kworker/+ \u001b[m\u001b[m\u001b[K\n",
      "\u001b[m107098 samar     20   0  880056  76968   9244 S   1.7  0.2   0:04.63 /u/samar/+ \u001b[m\u001b[m\u001b[K\n",
      "\u001b[m 16511 samar     20   0  925104  20888   5316 S   1.3  0.0   0:52.59 /u/samar/+ \u001b[m\u001b[m\u001b[K\n",
      "\u001b[m 16599 samar     20   0   14.8g  59396  18696 S   1.3  0.1   0:49.79 ray::IDLE  \u001b[m\u001b[m\u001b[K\n",
      "\u001b[m 16565 samar     20   0  268468  48576  15948 S   1.0  0.1   0:26.87 /u/samar/+ \u001b[m\u001b[m\u001b[K\n",
      "\u001b[m 16601 samar     20   0   14.8g  61448  18700 S   1.0  0.1   0:49.42 ray::IDLE  \u001b[m\u001b[m\u001b[K\n",
      "\u001b[m 16597 samar     20   0   14.8g  61440  18700 S   0.7  0.1   0:47.18 ray::IDLE  \u001b[m\u001b[m\u001b[K\u001b[H\u001b[mtop - 23:21:12 up 109 days, 11:19,  0 users,  load average: 2.20, 3.09, 3.21\u001b[m\u001b[m\u001b[m\u001b[m\u001b[K\n",
      "Tasks:\u001b[m\u001b[m\u001b[1m 193 \u001b[m\u001b[mtotal,\u001b[m\u001b[m\u001b[1m   7 \u001b[m\u001b[mrunning,\u001b[m\u001b[m\u001b[1m 186 \u001b[m\u001b[msleeping,\u001b[m\u001b[m\u001b[1m   0 \u001b[m\u001b[mstopped,\u001b[m\u001b[m\u001b[1m   0 \u001b[m\u001b[mzombie\u001b[m\u001b[m\u001b[m\u001b[m\u001b[K\n",
      "%Cpu(s):\u001b[m\u001b[m\u001b[1m 24.5 \u001b[m\u001b[mus,\u001b[m\u001b[m\u001b[1m 13.4 \u001b[m\u001b[msy,\u001b[m\u001b[m\u001b[1m  0.0 \u001b[m\u001b[mni,\u001b[m\u001b[m\u001b[1m 61.5 \u001b[m\u001b[mid,\u001b[m\u001b[m\u001b[1m  0.0 \u001b[m\u001b[mwa,\u001b[m\u001b[m\u001b[1m  0.0 \u001b[m\u001b[mhi,\u001b[m\u001b[m\u001b[1m  0.6 \u001b[m\u001b[msi,\u001b[m\u001b[m\u001b[1m  0.0 \u001b[m\u001b[mst\u001b[m\u001b[m\u001b[m\u001b[m\u001b[K\n",
      "KiB Mem :\u001b[m\u001b[m\u001b[1m 48794100 \u001b[m\u001b[mtotal,\u001b[m\u001b[m\u001b[1m 40316744 \u001b[m\u001b[mfree,\u001b[m\u001b[m\u001b[1m  5862360 \u001b[m\u001b[mused,\u001b[m\u001b[m\u001b[1m  2614996 \u001b[m\u001b[mbuff/cache\u001b[m\u001b[m\u001b[m\u001b[m\u001b[K\n",
      "KiB Swap:\u001b[m\u001b[m\u001b[1m  4194300 \u001b[m\u001b[mtotal,\u001b[m\u001b[m\u001b[1m  4187388 \u001b[m\u001b[mfree,\u001b[m\u001b[m\u001b[1m     6912 \u001b[m\u001b[mused.\u001b[m\u001b[m\u001b[1m 42089248 \u001b[m\u001b[mavail Mem \u001b[m\u001b[m\u001b[m\u001b[m\u001b[K\n",
      "\u001b[K\n",
      "\n",
      "\u001b[m\u001b[1m 16531 hank      20   0 9900.9m   3.6g 165784 R  99.7  7.8  45:33.85 python -u+ \u001b[m\u001b[m\u001b[K\n",
      "\u001b[m\u001b[1m 15047 samar     20   0   19.2g 556376 197012 R  89.7  1.1  40:14.20 /u/samar/+ \u001b[m\u001b[m\u001b[K\n",
      "\u001b[m\u001b[1m 16578 samar     20   0 2745364 197300  76748 R  10.6  0.4   5:01.05 /u/samar/+ \u001b[m\u001b[m\u001b[K\n",
      "\u001b[m 16501 samar     20   0  181196  15260   4316 S   4.3  0.0   1:58.47 /u/samar/+ \u001b[m\u001b[m\u001b[K\n",
      "\u001b[m 16598 samar     20   0   14.8g  59396  18700 S   3.3  0.1   0:51.14 ray::IDLE  \u001b[m\u001b[m\u001b[K\n",
      "\u001b[m    14 root      20   0       0      0      0 S   2.3  0.0   0:44.45 [ksoftirq+ \u001b[m\u001b[m\u001b[K\n",
      "\u001b[m 16601 samar     20   0   14.8g  61448  18700 S   2.3  0.1   0:49.49 ray::IDLE  \u001b[m\u001b[m\u001b[K\n",
      "\u001b[m 16603 samar     20   0   14.8g  57352  18680 S   2.0  0.1   0:53.46 ray::IDLE  \u001b[m\u001b[m\u001b[K\n",
      "\u001b[m107098 samar     20   0  880056  76968   9244 S   1.7  0.2   0:04.68 /u/samar/+ \u001b[m\u001b[m\u001b[K\n",
      "\u001b[m 16597 samar     20   0   14.8g  61440  18700 S   1.3  0.1   0:47.22 ray::IDLE  \u001b[m\u001b[m\u001b[K\n",
      "\u001b[m 16556 samar     20   0   15.1g  20136   6500 S   1.0  0.0   0:51.89 /u/samar/+ \u001b[m\u001b[m\u001b[K\n",
      "\u001b[m 16599 samar     20   0   14.8g  59396  18696 S   1.0  0.1   0:49.82 ray::IDLE  \u001b[m\u001b[m\u001b[K\n",
      "\u001b[m 16600 samar     20   0   14.9g  61436  18692 S   1.0  0.1   0:50.59 ray::IDLE  \u001b[m\u001b[m\u001b[K\n",
      "\u001b[m\u001b[1m 16511 samar     20   0  925104  20888   5316 R   0.7  0.0   0:52.61 /u/samar/+ \u001b[m\u001b[m\u001b[K\n",
      "\u001b[m 16526 samar     20   0 3098464 201136  77260 S   0.7  0.4   0:25.38 /u/samar/+ \u001b[m\u001b[m\u001b[K\n",
      "\u001b[m 16565 samar     20   0  268468  48576  15948 S   0.7  0.1   0:26.89 /u/samar/+ \u001b[m\u001b[m\u001b[K\n",
      "\u001b[m 79409 root       0 -20       0      0      0 S   0.7  0.0   0:15.13 [kworker/+ \u001b[m\u001b[m\u001b[K\u001b[?1l\u001b>\u001b[25;1H\n",
      "\u001b[K"
     ]
    }
   ],
   "source": [
    "!top -c"
   ]
  },
  {
   "cell_type": "code",
   "execution_count": null,
   "id": "3c461a93",
   "metadata": {},
   "outputs": [],
   "source": []
  }
 ],
 "metadata": {
  "kernelspec": {
   "display_name": "Python 3 (ipykernel)",
   "language": "python",
   "name": "python3"
  },
  "language_info": {
   "codemirror_mode": {
    "name": "ipython",
    "version": 3
   },
   "file_extension": ".py",
   "mimetype": "text/x-python",
   "name": "python",
   "nbconvert_exporter": "python",
   "pygments_lexer": "ipython3",
   "version": "3.8.10"
  }
 },
 "nbformat": 4,
 "nbformat_minor": 5
}
