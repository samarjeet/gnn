{
 "cells": [
  {
   "cell_type": "code",
   "execution_count": 139,
   "id": "a6ecbd07",
   "metadata": {},
   "outputs": [],
   "source": [
    "import gym\n",
    "import numpy as np\n",
    "import torch.nn as nn\n",
    "import torch.optim as optim\n",
    "import os\n",
    "import torch\n",
    "import math"
   ]
  },
  {
   "cell_type": "markdown",
   "id": "c18b8d36",
   "metadata": {},
   "source": []
  },
  {
   "cell_type": "code",
   "execution_count": null,
   "id": "4d32197f",
   "metadata": {},
   "outputs": [],
   "source": []
  },
  {
   "cell_type": "code",
   "execution_count": 25,
   "id": "c0f1c392",
   "metadata": {},
   "outputs": [],
   "source": [
    "class ActorNetwork(nn.Module):\n",
    "    def __init__(self, n_actions, input_dims, alpha,\n",
    "                fc1_dims=256, fc2_dims=256, chkpt_dir='./tmp/ppo'):\n",
    "        super(ActorNetwork, self).__init__()\n",
    "        \n",
    "        self.checkpoint_file=os.path.join(chkpt_dir, 'actor_torch_ppo')\n",
    "        self.actor = nn.Sequential(\n",
    "            nn.Linear(*input_dims, fc1_dims),\n",
    "            nn.ReLU(),\n",
    "            nn.Linear(fc1_dims, fc2_dims),\n",
    "            nn.ReLU(),\n",
    "            nn.Linear(fc2_dims, n_actions),\n",
    "            nn.Softmax(dim=-1)\n",
    "        )\n",
    "        self.optimizer = optim.Adam(self.parameters(), lr=alpha)\n",
    "        #self.device = \n",
    "        \n",
    "    \n",
    "    def forward(self, state):\n",
    "        pass\n",
    "    \n",
    "    def save_checkpoint(self):\n",
    "        pass\n",
    "    \n",
    "    def load_checkpoint(self):\n",
    "        pass"
   ]
  },
  {
   "cell_type": "code",
   "execution_count": 26,
   "id": "4c8abb44",
   "metadata": {},
   "outputs": [],
   "source": [
    "class CriticNetwork(nn.Module):\n",
    "    def __init__(self):\n",
    "        pass\n",
    "    \n",
    "    def forward(self, state):\n",
    "        pass\n",
    "    \n",
    "    def save_checkpoint(self):\n",
    "        pass\n",
    "    \n",
    "    def load_checkpoint(self):\n",
    "        pass"
   ]
  },
  {
   "cell_type": "code",
   "execution_count": 27,
   "id": "a208610e",
   "metadata": {},
   "outputs": [],
   "source": [
    "class Agent:\n",
    "    def __init__(self, n_actions, input_dims, gamma=0.99, \n",
    "                alpha=0.0003, gae_lambda=0.95, policy_clip=0.2, \n",
    "                batch_size=64, n_epochs=10):\n",
    "        self.gamma = gamma\n",
    "        self.policy_clip = policy_clip\n",
    "        self.n_epochs = n_epochs\n",
    "        self.gae_lambda = gae_lambda\n",
    "        \n",
    "        self.actor = ActorNetwork(n_actions, input_dims, alpha)\n",
    "    \n",
    "    def remember(self):\n",
    "        pass\n",
    "    \n",
    "    def save_models(self):\n",
    "        pass\n",
    "    \n",
    "    def load_models(self):\n",
    "        pass\n",
    "    \n",
    "    def choose_action(self, observation):\n",
    "        pass\n",
    "    \n",
    "    def learn(self):\n",
    "        pass\n",
    "    \n",
    "        "
   ]
  },
  {
   "cell_type": "code",
   "execution_count": 29,
   "id": "68d8df66",
   "metadata": {},
   "outputs": [
    {
     "name": "stderr",
     "output_type": "stream",
     "text": [
      "/u/samar/.conda/envs/rl/lib/python3.9/site-packages/gym/logger.py:30: UserWarning: \u001b[33mWARN: Box bound precision lowered by casting to float32\u001b[0m\n",
      "  warnings.warn(colorize('%s: %s'%('WARN', msg % args), 'yellow'))\n"
     ]
    },
    {
     "ename": "TypeError",
     "evalue": "cannot unpack non-iterable NoneType object",
     "output_type": "error",
     "traceback": [
      "\u001b[0;31m---------------------------------------------------------------------------\u001b[0m",
      "\u001b[0;31mTypeError\u001b[0m                                 Traceback (most recent call last)",
      "\u001b[0;32m<ipython-input-29-387a589805be>\u001b[0m in \u001b[0;36m<module>\u001b[0;34m\u001b[0m\n\u001b[1;32m     21\u001b[0m \u001b[0mscore\u001b[0m \u001b[0;34m=\u001b[0m \u001b[0;36m0\u001b[0m\u001b[0;34m\u001b[0m\u001b[0;34m\u001b[0m\u001b[0m\n\u001b[1;32m     22\u001b[0m \u001b[0;32mwhile\u001b[0m \u001b[0;32mnot\u001b[0m \u001b[0mdone\u001b[0m\u001b[0;34m:\u001b[0m\u001b[0;34m\u001b[0m\u001b[0;34m\u001b[0m\u001b[0m\n\u001b[0;32m---> 23\u001b[0;31m     \u001b[0maction\u001b[0m\u001b[0;34m,\u001b[0m \u001b[0mprob\u001b[0m\u001b[0;34m,\u001b[0m \u001b[0mval\u001b[0m \u001b[0;34m=\u001b[0m \u001b[0magent\u001b[0m\u001b[0;34m.\u001b[0m\u001b[0mchoose_action\u001b[0m\u001b[0;34m(\u001b[0m\u001b[0mobservation\u001b[0m\u001b[0;34m)\u001b[0m\u001b[0;34m\u001b[0m\u001b[0;34m\u001b[0m\u001b[0m\n\u001b[0m",
      "\u001b[0;31mTypeError\u001b[0m: cannot unpack non-iterable NoneType object"
     ]
    }
   ],
   "source": [
    "env = gym.make('CartPole-v0')\n",
    "N = 20\n",
    "batch_size = 5\n",
    "n_epochs = 4\n",
    "alpha = 0.0003\n",
    "\n",
    "agent = Agent(n_actions=env.action_space.n, batch_size=batch_size,\n",
    "             alpha=alpha, n_epochs=n_epochs, input_dims=env.observation_space.shape)\n",
    "\n",
    "n_games = 300\n",
    "\n",
    "best_score = env.reward_range[0]\n",
    "score_history = []\n",
    "\n",
    "learn_iters = 0\n",
    "avg_score = 0\n",
    "n_steps = 0\n",
    "\n",
    "observation = env.reset()\n",
    "done = False\n",
    "score = 0\n",
    "while not done:\n",
    "    action, prob, val = agent.choose_action(observation)"
   ]
  },
  {
   "cell_type": "code",
   "execution_count": 52,
   "id": "cbba271d",
   "metadata": {},
   "outputs": [],
   "source": [
    "t1 = torch.tensor([[1,4,4], [4,5,6]])\n",
    "t2 = torch.randn(10,10)"
   ]
  },
  {
   "cell_type": "code",
   "execution_count": 59,
   "id": "d9fe119a",
   "metadata": {},
   "outputs": [
    {
     "data": {
      "text/plain": [
       "torch.Size([10, 10])"
      ]
     },
     "execution_count": 59,
     "metadata": {},
     "output_type": "execute_result"
    }
   ],
   "source": [
    "t2.shape"
   ]
  },
  {
   "cell_type": "code",
   "execution_count": 60,
   "id": "82608a34",
   "metadata": {},
   "outputs": [
    {
     "data": {
      "text/plain": [
       "torch.Size([10, 10])"
      ]
     },
     "execution_count": 60,
     "metadata": {},
     "output_type": "execute_result"
    }
   ],
   "source": [
    "t2.size()"
   ]
  },
  {
   "cell_type": "code",
   "execution_count": 47,
   "id": "02542036",
   "metadata": {},
   "outputs": [
    {
     "data": {
      "text/plain": [
       "(tensor([1, 4, 4]), tensor([4, 5, 6]))"
      ]
     },
     "execution_count": 47,
     "metadata": {},
     "output_type": "execute_result"
    }
   ],
   "source": [
    "t1.unbind(dim=0)"
   ]
  },
  {
   "cell_type": "code",
   "execution_count": 51,
   "id": "c6840ddf",
   "metadata": {},
   "outputs": [
    {
     "data": {
      "text/plain": [
       "(tensor([1, 4]), tensor([4, 5]), tensor([4, 6]))"
      ]
     },
     "execution_count": 51,
     "metadata": {},
     "output_type": "execute_result"
    }
   ],
   "source": [
    "torch.unbind(t1, dim=1)"
   ]
  },
  {
   "cell_type": "code",
   "execution_count": 50,
   "id": "702f5bf2",
   "metadata": {},
   "outputs": [
    {
     "data": {
      "text/plain": [
       "tensor([[1, 4, 4],\n",
       "        [4, 5, 6]])"
      ]
     },
     "execution_count": 50,
     "metadata": {},
     "output_type": "execute_result"
    }
   ],
   "source": [
    "torch.unique(t1, dim=1)"
   ]
  },
  {
   "cell_type": "code",
   "execution_count": 61,
   "id": "257cf568",
   "metadata": {},
   "outputs": [
    {
     "data": {
      "text/plain": [
       "tensor([[1, 4, 4],\n",
       "        [4, 5, 6]])"
      ]
     },
     "execution_count": 61,
     "metadata": {},
     "output_type": "execute_result"
    }
   ],
   "source": [
    "t1"
   ]
  },
  {
   "cell_type": "code",
   "execution_count": 66,
   "id": "d2a211d8",
   "metadata": {},
   "outputs": [
    {
     "data": {
      "text/plain": [
       "tensor([[[-0.2956,  1.3429,  0.1534,  0.6527],\n",
       "         [-0.4973, -1.7180, -1.3210,  0.6957],\n",
       "         [ 0.3175, -1.3622,  1.5633, -0.5228]],\n",
       "\n",
       "        [[-0.0097,  0.2967,  2.0934,  0.2879],\n",
       "         [ 2.7146,  0.9189, -1.3161,  0.0951],\n",
       "         [-1.0411, -0.2537,  0.7328, -1.3536]]])"
      ]
     },
     "execution_count": 66,
     "metadata": {},
     "output_type": "execute_result"
    }
   ],
   "source": [
    "t3=torch.randn(2,3,4)\n",
    "t3"
   ]
  },
  {
   "cell_type": "code",
   "execution_count": 72,
   "id": "02eebbc3",
   "metadata": {},
   "outputs": [
    {
     "data": {
      "text/plain": [
       "tensor([[[-0.2956, -0.4973,  0.3175],\n",
       "         [-0.0097,  2.7146, -1.0411]],\n",
       "\n",
       "        [[ 1.3429, -1.7180, -1.3622],\n",
       "         [ 0.2967,  0.9189, -0.2537]],\n",
       "\n",
       "        [[ 0.1534, -1.3210,  1.5633],\n",
       "         [ 2.0934, -1.3161,  0.7328]],\n",
       "\n",
       "        [[ 0.6527,  0.6957, -0.5228],\n",
       "         [ 0.2879,  0.0951, -1.3536]]])"
      ]
     },
     "execution_count": 72,
     "metadata": {},
     "output_type": "execute_result"
    }
   ],
   "source": [
    "t4 = t3.movedim(2,0)\n",
    "t4"
   ]
  },
  {
   "cell_type": "code",
   "execution_count": 73,
   "id": "c64ea8d7",
   "metadata": {},
   "outputs": [
    {
     "data": {
      "text/plain": [
       "torch.Size([4, 2, 3])"
      ]
     },
     "execution_count": 73,
     "metadata": {},
     "output_type": "execute_result"
    }
   ],
   "source": [
    "t4.shape"
   ]
  },
  {
   "cell_type": "code",
   "execution_count": 74,
   "id": "94856d83",
   "metadata": {},
   "outputs": [
    {
     "data": {
      "text/plain": [
       "torch.Size([2, 3, 4])"
      ]
     },
     "execution_count": 74,
     "metadata": {},
     "output_type": "execute_result"
    }
   ],
   "source": [
    "t3.shape"
   ]
  },
  {
   "cell_type": "code",
   "execution_count": 75,
   "id": "2c90a34f",
   "metadata": {},
   "outputs": [
    {
     "data": {
      "text/plain": [
       "tensor([[[ 0.5461,  0.5930, -0.9034]],\n",
       "\n",
       "        [[ 0.2467, -0.2575,  0.6066]]])"
      ]
     },
     "execution_count": 75,
     "metadata": {},
     "output_type": "execute_result"
    }
   ],
   "source": [
    "t5 = torch.randn(2,1,3)\n",
    "t5"
   ]
  },
  {
   "cell_type": "code",
   "execution_count": 76,
   "id": "530e84d0",
   "metadata": {},
   "outputs": [
    {
     "data": {
      "text/plain": [
       "tensor([[ 0.5461,  0.5930, -0.9034],\n",
       "        [ 0.2467, -0.2575,  0.6066]])"
      ]
     },
     "execution_count": 76,
     "metadata": {},
     "output_type": "execute_result"
    }
   ],
   "source": [
    "t5.squeeze()"
   ]
  },
  {
   "cell_type": "code",
   "execution_count": 77,
   "id": "5bf74a95",
   "metadata": {},
   "outputs": [
    {
     "data": {
      "text/plain": [
       "tensor([[ 0.5461,  0.5930, -0.9034],\n",
       "        [ 0.2467, -0.2575,  0.6066]])"
      ]
     },
     "execution_count": 77,
     "metadata": {},
     "output_type": "execute_result"
    }
   ],
   "source": [
    "torch.squeeze(t5)"
   ]
  },
  {
   "cell_type": "code",
   "execution_count": 80,
   "id": "a3b6673e",
   "metadata": {},
   "outputs": [
    {
     "data": {
      "text/plain": [
       "(torch.Size([2, 1, 3]), torch.Size([2, 3]))"
      ]
     },
     "execution_count": 80,
     "metadata": {},
     "output_type": "execute_result"
    }
   ],
   "source": [
    "t5.shape, t5.squeeze().shape"
   ]
  },
  {
   "cell_type": "code",
   "execution_count": 102,
   "id": "83d36e4b",
   "metadata": {},
   "outputs": [
    {
     "data": {
      "text/plain": [
       "Gumbel(loc: tensor([1.]), scale: tensor([2.]))"
      ]
     },
     "execution_count": 102,
     "metadata": {},
     "output_type": "execute_result"
    }
   ],
   "source": [
    "dist = torch.distributions.gumbel.Gumbel(torch.tensor([1.0]), torch.tensor([2.0]))\n",
    "dist"
   ]
  },
  {
   "cell_type": "code",
   "execution_count": 103,
   "id": "6b8560bd",
   "metadata": {},
   "outputs": [
    {
     "data": {
      "text/plain": [
       "tensor([12.0253])"
      ]
     },
     "execution_count": 103,
     "metadata": {},
     "output_type": "execute_result"
    }
   ],
   "source": [
    "dist.sample()"
   ]
  },
  {
   "cell_type": "code",
   "execution_count": 104,
   "id": "e56f1f49",
   "metadata": {},
   "outputs": [
    {
     "data": {
      "text/plain": [
       "tensor([2.2704])"
      ]
     },
     "execution_count": 104,
     "metadata": {},
     "output_type": "execute_result"
    }
   ],
   "source": [
    "dist.entropy()"
   ]
  },
  {
   "cell_type": "code",
   "execution_count": 105,
   "id": "be18cf89",
   "metadata": {},
   "outputs": [
    {
     "data": {
      "text/plain": [
       "tensor([-1.6980])"
      ]
     },
     "execution_count": 105,
     "metadata": {},
     "output_type": "execute_result"
    }
   ],
   "source": [
    "dist.log_prob(torch.tensor([1.2]))"
   ]
  },
  {
   "cell_type": "code",
   "execution_count": 108,
   "id": "a73e60ce",
   "metadata": {},
   "outputs": [
    {
     "data": {
      "text/plain": [
       "(tensor([2.1544]), tensor([2.5651]))"
      ]
     },
     "execution_count": 108,
     "metadata": {},
     "output_type": "execute_result"
    }
   ],
   "source": [
    "dist.mean, dist.stddev"
   ]
  },
  {
   "cell_type": "code",
   "execution_count": 110,
   "id": "c7aa1d34",
   "metadata": {},
   "outputs": [
    {
     "data": {
      "text/plain": [
       "Real()"
      ]
     },
     "execution_count": 110,
     "metadata": {},
     "output_type": "execute_result"
    }
   ],
   "source": [
    "dist.support"
   ]
  },
  {
   "cell_type": "code",
   "execution_count": 112,
   "id": "beb45983",
   "metadata": {},
   "outputs": [
    {
     "data": {
      "text/plain": [
       "tensor([6.5797])"
      ]
     },
     "execution_count": 112,
     "metadata": {},
     "output_type": "execute_result"
    }
   ],
   "source": [
    "dist.variance"
   ]
  },
  {
   "cell_type": "code",
   "execution_count": 147,
   "id": "8ac7af1e",
   "metadata": {},
   "outputs": [
    {
     "data": {
      "text/plain": [
       "Normal(loc: tensor([0.]), scale: tensor([1.]))"
      ]
     },
     "execution_count": 147,
     "metadata": {},
     "output_type": "execute_result"
    }
   ],
   "source": [
    "loc = torch.tensor([0.0])\n",
    "scale = torch.tensor([1.0])\n",
    "norm = torch.distributions.normal.Normal(loc=loc, scale=scale)\n",
    "norm"
   ]
  },
  {
   "cell_type": "code",
   "execution_count": 148,
   "id": "fcfed4c7",
   "metadata": {},
   "outputs": [
    {
     "data": {
      "text/plain": [
       "(tensor([0.]), tensor([1.]), tensor([1.]))"
      ]
     },
     "execution_count": 148,
     "metadata": {},
     "output_type": "execute_result"
    }
   ],
   "source": [
    "norm.mean, norm.stddev, norm.variance"
   ]
  },
  {
   "cell_type": "code",
   "execution_count": 149,
   "id": "61052a51",
   "metadata": {},
   "outputs": [
    {
     "data": {
      "text/plain": [
       "tensor([-1.1773])"
      ]
     },
     "execution_count": 149,
     "metadata": {},
     "output_type": "execute_result"
    }
   ],
   "source": [
    "norm.sample()"
   ]
  },
  {
   "cell_type": "code",
   "execution_count": 150,
   "id": "0f989091",
   "metadata": {},
   "outputs": [
    {
     "data": {
      "text/plain": [
       "tensor([1.4189])"
      ]
     },
     "execution_count": 150,
     "metadata": {},
     "output_type": "execute_result"
    }
   ],
   "source": [
    "norm.entropy()"
   ]
  },
  {
   "cell_type": "code",
   "execution_count": 151,
   "id": "af96f000",
   "metadata": {},
   "outputs": [
    {
     "data": {
      "text/plain": [
       "{'loc': Real(), 'scale': GreaterThan(lower_bound=0.0)}"
      ]
     },
     "execution_count": 151,
     "metadata": {},
     "output_type": "execute_result"
    }
   ],
   "source": [
    "norm.arg_constraints"
   ]
  },
  {
   "cell_type": "code",
   "execution_count": 157,
   "id": "d68295c3",
   "metadata": {},
   "outputs": [
    {
     "data": {
      "text/plain": [
       "tensor([-0.9189])"
      ]
     },
     "execution_count": 157,
     "metadata": {},
     "output_type": "execute_result"
    }
   ],
   "source": [
    "value = torch.tensor([0.0])\n",
    "norm.log_prob(value)"
   ]
  },
  {
   "cell_type": "code",
   "execution_count": 156,
   "id": "d3df7bdd",
   "metadata": {},
   "outputs": [
    {
     "data": {
      "text/plain": [
       "-1.4189385332046727"
      ]
     },
     "execution_count": 156,
     "metadata": {},
     "output_type": "execute_result"
    }
   ],
   "source": [
    "x = 1.0\n",
    "-x*x/2.0 -0.5 * math.log(2*math.pi)"
   ]
  },
  {
   "cell_type": "code",
   "execution_count": 159,
   "id": "a39663c9",
   "metadata": {},
   "outputs": [
    {
     "data": {
      "text/plain": [
       "tensor([0.8413])"
      ]
     },
     "execution_count": 159,
     "metadata": {},
     "output_type": "execute_result"
    }
   ],
   "source": [
    "norm.cdf(scale)"
   ]
  },
  {
   "cell_type": "code",
   "execution_count": 162,
   "id": "599359ec",
   "metadata": {},
   "outputs": [
    {
     "data": {
      "text/plain": [
       "Categorical(probs: torch.Size([3]))"
      ]
     },
     "execution_count": 162,
     "metadata": {},
     "output_type": "execute_result"
    }
   ],
   "source": [
    "probs = torch.tensor([0.2, 0.7, 0.1])\n",
    "cat = torch.distributions.categorical.Categorical(probs)\n",
    "cat"
   ]
  },
  {
   "cell_type": "code",
   "execution_count": 174,
   "id": "f39887be",
   "metadata": {},
   "outputs": [
    {
     "data": {
      "text/plain": [
       "tensor(2)"
      ]
     },
     "execution_count": 174,
     "metadata": {},
     "output_type": "execute_result"
    }
   ],
   "source": [
    "value = cat.sample()\n",
    "value"
   ]
  },
  {
   "cell_type": "code",
   "execution_count": 179,
   "id": "b099e08a",
   "metadata": {},
   "outputs": [
    {
     "data": {
      "text/plain": [
       "array([0])"
      ]
     },
     "execution_count": 179,
     "metadata": {},
     "output_type": "execute_result"
    }
   ],
   "source": [
    "np.arange(0,20,64)"
   ]
  },
  {
   "cell_type": "code",
   "execution_count": 194,
   "id": "f406f069",
   "metadata": {},
   "outputs": [
    {
     "data": {
      "text/plain": [
       "(array([2, 9, 4, 5, 0, 7, 6, 1, 3, 8]),\n",
       " array([0, 5]),\n",
       " [array([2, 9, 4, 5, 0]), array([7, 6, 1, 3, 8])])"
      ]
     },
     "execution_count": 194,
     "metadata": {},
     "output_type": "execute_result"
    }
   ],
   "source": [
    "batch_start = np.arange(0, 10, 5)\n",
    "indices = np.arange(10)\n",
    "np.random.shuffle(indices)\n",
    "batches = [indices[i:i+5] for i in batch_start]\n",
    "indices, batch_start, batches"
   ]
  },
  {
   "cell_type": "code",
   "execution_count": null,
   "id": "61c67006",
   "metadata": {},
   "outputs": [],
   "source": []
  }
 ],
 "metadata": {
  "kernelspec": {
   "display_name": "Python 3",
   "language": "python",
   "name": "python3"
  },
  "language_info": {
   "codemirror_mode": {
    "name": "ipython",
    "version": 3
   },
   "file_extension": ".py",
   "mimetype": "text/x-python",
   "name": "python",
   "nbconvert_exporter": "python",
   "pygments_lexer": "ipython3",
   "version": "3.9.1"
  }
 },
 "nbformat": 4,
 "nbformat_minor": 5
}
