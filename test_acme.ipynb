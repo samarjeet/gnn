{
 "cells": [
  {
   "cell_type": "code",
   "execution_count": 1,
   "id": "d2b9762d",
   "metadata": {},
   "outputs": [
    {
     "name": "stderr",
     "output_type": "stream",
     "text": [
      "2021-08-18 17:43:10.588325: W tensorflow/stream_executor/platform/default/dso_loader.cc:64] Could not load dynamic library 'libcudart.so.11.0'; dlerror: libcudart.so.11.0: cannot open shared object file: No such file or directory; LD_LIBRARY_PATH: /v/apps/clang/8.0.1/lib:/v/apps/fftw/3.3.7/gcc_8.2/lib:/v/apps/cuda/10.1.168/lib64:/v/apps/mpi/mvapich2/2.3/gcc_8.2/lib:/v/apps/gcc/8.2/lib64:/v/apps/valgrind/3.12.0/lib/valgrind:/v/apps/gdb/7.12-centos7/lib64::/u/samar/.mujoco/mujoco200/bin:/u/samar/Documents/git/protobuf/protbuf_install:/u/samar/Documents/git/caffe2/install/lib:/u/samar/Documents/git/protobuf/protbuf_install/:/u/samar/Documents/git/caffe2/install/lib:/u/samar/.conda/envs/rl/lib\n",
      "2021-08-18 17:43:10.588365: I tensorflow/stream_executor/cuda/cudart_stub.cc:29] Ignore above cudart dlerror if you do not have a GPU set up on your machine.\n"
     ]
    }
   ],
   "source": [
    "from absl import app, flags\n",
    "from acme.agents.tf import d4pg"
   ]
  },
  {
   "cell_type": "code",
   "execution_count": 2,
   "id": "cdf6ede6",
   "metadata": {},
   "outputs": [],
   "source": [
    "import acme\n",
    "from acme import specs, wrappers\n",
    "from acme.agents.tf import dqn"
   ]
  },
  {
   "cell_type": "code",
   "execution_count": 3,
   "id": "8203643f",
   "metadata": {},
   "outputs": [],
   "source": [
    "import bsuite\n",
    "import sonnet as snt\n"
   ]
  },
  {
   "cell_type": "code",
   "execution_count": 4,
   "id": "2f129db2",
   "metadata": {},
   "outputs": [],
   "source": [
    "# Bsuite flags\n",
    "flags.DEFINE_string('bsuite_id', 'deep_sea/0', 'Bsuite id.')\n",
    "flags.DEFINE_string('results_dir', '/tmp/bsuite', 'CSV results directory.')\n",
    "flags.DEFINE_boolean('overwrite', False, 'Whether to overwrite csv results.')\n",
    "FLAGS = flags.FLAGS"
   ]
  },
  {
   "cell_type": "code",
   "execution_count": 6,
   "id": "3303c409",
   "metadata": {},
   "outputs": [],
   "source": [
    "import copy\n",
    "import pyvirtualdisplay\n",
    "import imageio \n",
    "import base64\n",
    "import IPython\n",
    "\n",
    "\n",
    "from acme import environment_loop\n",
    "from acme.tf import networks\n",
    "from acme.adders import reverb as adders\n",
    "from acme.agents.tf import actors as actors\n",
    "from acme.datasets import reverb as datasets\n",
    "from acme.wrappers import gym_wrapper\n",
    "from acme import specs\n",
    "from acme import wrappers\n",
    "from acme.agents.tf import d4pg\n",
    "from acme.agents import agent\n",
    "from acme.tf import utils as tf2_utils\n",
    "from acme.utils import loggers\n",
    "\n",
    "import gym \n",
    "import dm_env\n",
    "import matplotlib.pyplot as plt\n",
    "import numpy as np\n",
    "import reverb\n",
    "import sonnet as snt\n",
    "import tensorflow as tf\n",
    "\n",
    "# Import dm_control if it exists.\n",
    "try:\n",
    "  from dm_control import suite\n",
    "except (ModuleNotFoundError, OSError):\n",
    "  pass\n",
    "\n",
    "# Set up a virtual display for rendering OpenAI gym environments.\n",
    "#display = pyvirtualdisplay.Display(visible=0, size=(1400, 900)).start()"
   ]
  },
  {
   "cell_type": "code",
   "execution_count": 10,
   "id": "a7fd859f",
   "metadata": {},
   "outputs": [],
   "source": [
    "#environment_name = 'dm_cartpole'  # @param ['dm_cartpole', 'gym_mountaincar']\n",
    "environment_name = 'gym_mountaincar'\n",
    "\n",
    "# task_name = 'balance'  # @param ['swingup', 'balance']\n",
    "\n",
    "def make_environment(domain_name='cartpole', task='balance'):\n",
    "  env = suite.load(domain_name, task)\n",
    "  env = wrappers.SinglePrecisionWrapper(env)\n",
    "  return env\n",
    "\n",
    "if 'dm_cartpole' in environment_name:\n",
    "  environment = make_environment('cartpole')\n",
    "  def render(env):\n",
    "    return env._physics.render(camera_id=0)  #pylint: disable=protected-access\n",
    "\n",
    "elif 'gym_mountaincar' in environment_name:\n",
    "  environment = gym_wrapper.GymWrapper(gym.make('MountainCarContinuous-v0'))\n",
    "  environment = wrappers.SinglePrecisionWrapper(environment)\n",
    "  def render(env):\n",
    "    return env.environment.render(mode='rgb_array')\n",
    "else:\n",
    "  raise ValueError('Unknown environment: {}.'.format(environment_name))\n",
    "\n",
    "# Show the frame.\n",
    "#frame = render(environment)\n",
    "#plt.imshow(frame)\n",
    "#plt.axis('off')"
   ]
  },
  {
   "cell_type": "code",
   "execution_count": 11,
   "id": "af300dc1",
   "metadata": {},
   "outputs": [
    {
     "data": {
      "text/plain": [
       "<acme.wrappers.single_precision.SinglePrecisionWrapper at 0x7f1b0214ac70>"
      ]
     },
     "execution_count": 11,
     "metadata": {},
     "output_type": "execute_result"
    }
   ],
   "source": [
    "environment"
   ]
  },
  {
   "cell_type": "code",
   "execution_count": null,
   "id": "881b399d",
   "metadata": {},
   "outputs": [],
   "source": []
  }
 ],
 "metadata": {
  "kernelspec": {
   "display_name": "Python 3 (ipykernel)",
   "language": "python",
   "name": "python3"
  },
  "language_info": {
   "codemirror_mode": {
    "name": "ipython",
    "version": 3
   },
   "file_extension": ".py",
   "mimetype": "text/x-python",
   "name": "python",
   "nbconvert_exporter": "python",
   "pygments_lexer": "ipython3",
   "version": "3.8.10"
  }
 },
 "nbformat": 4,
 "nbformat_minor": 5
}
