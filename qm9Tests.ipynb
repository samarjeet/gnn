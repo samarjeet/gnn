{
 "cells": [
  {
   "cell_type": "code",
   "execution_count": 1,
   "id": "2b33c6db",
   "metadata": {},
   "outputs": [],
   "source": [
    "from torch_geometric.datasets import QM9"
   ]
  },
  {
   "cell_type": "code",
   "execution_count": 23,
   "id": "0a62773a",
   "metadata": {},
   "outputs": [
    {
     "name": "stdout",
     "output_type": "stream",
     "text": [
      "Help on class QM9 in module torch_geometric.datasets.qm9:\n",
      "\n",
      "class QM9(torch_geometric.data.in_memory_dataset.InMemoryDataset)\n",
      " |  QM9(root, transform=None, pre_transform=None, pre_filter=None)\n",
      " |  \n",
      " |  The QM9 dataset from the `\"MoleculeNet: A Benchmark for Molecular\n",
      " |  Machine Learning\" <https://arxiv.org/abs/1703.00564>`_ paper, consisting of\n",
      " |  about 130,000 molecules with 19 regression targets.\n",
      " |  Each molecule includes complete spatial information for the single low\n",
      " |  energy conformation of the atoms in the molecule.\n",
      " |  In addition, we provide the atom features from the `\"Neural Message\n",
      " |  Passing for Quantum Chemistry\" <https://arxiv.org/abs/1704.01212>`_ paper.\n",
      " |  \n",
      " |  +--------+----------------------------------+-----------------------------------------------------------------------------------+---------------------------------------------+\n",
      " |  | Target | Property                         | Description                                                                       | Unit                                        |\n",
      " |  +========+==================================+===================================================================================+=============================================+\n",
      " |  | 0      | :math:`\\mu`                      | Dipole moment                                                                     | :math:`\\textrm{D}`                          |\n",
      " |  +--------+----------------------------------+-----------------------------------------------------------------------------------+---------------------------------------------+\n",
      " |  | 1      | :math:`\\alpha`                   | Isotropic polarizability                                                          | :math:`{a_0}^3`                             |\n",
      " |  +--------+----------------------------------+-----------------------------------------------------------------------------------+---------------------------------------------+\n",
      " |  | 2      | :math:`\\epsilon_{\\textrm{HOMO}}` | Highest occupied molecular orbital energy                                         | :math:`\\textrm{eV}`                         |\n",
      " |  +--------+----------------------------------+-----------------------------------------------------------------------------------+---------------------------------------------+\n",
      " |  | 3      | :math:`\\epsilon_{\\textrm{LUMO}}` | Lowest unoccupied molecular orbital energy                                        | :math:`\\textrm{eV}`                         |\n",
      " |  +--------+----------------------------------+-----------------------------------------------------------------------------------+---------------------------------------------+\n",
      " |  | 4      | :math:`\\Delta \\epsilon`          | Gap between :math:`\\epsilon_{\\textrm{HOMO}}` and :math:`\\epsilon_{\\textrm{LUMO}}` | :math:`\\textrm{eV}`                         |\n",
      " |  +--------+----------------------------------+-----------------------------------------------------------------------------------+---------------------------------------------+\n",
      " |  | 5      | :math:`\\langle R^2 \\rangle`      | Electronic spatial extent                                                         | :math:`{a_0}^2`                             |\n",
      " |  +--------+----------------------------------+-----------------------------------------------------------------------------------+---------------------------------------------+\n",
      " |  | 6      | :math:`\\textrm{ZPVE}`            | Zero point vibrational energy                                                     | :math:`\\textrm{eV}`                         |\n",
      " |  +--------+----------------------------------+-----------------------------------------------------------------------------------+---------------------------------------------+\n",
      " |  | 7      | :math:`U_0`                      | Internal energy at 0K                                                             | :math:`\\textrm{eV}`                         |\n",
      " |  +--------+----------------------------------+-----------------------------------------------------------------------------------+---------------------------------------------+\n",
      " |  | 8      | :math:`U`                        | Internal energy at 298.15K                                                        | :math:`\\textrm{eV}`                         |\n",
      " |  +--------+----------------------------------+-----------------------------------------------------------------------------------+---------------------------------------------+\n",
      " |  | 9      | :math:`H`                        | Enthalpy at 298.15K                                                               | :math:`\\textrm{eV}`                         |\n",
      " |  +--------+----------------------------------+-----------------------------------------------------------------------------------+---------------------------------------------+\n",
      " |  | 10     | :math:`G`                        | Free energy at 298.15K                                                            | :math:`\\textrm{eV}`                         |\n",
      " |  +--------+----------------------------------+-----------------------------------------------------------------------------------+---------------------------------------------+\n",
      " |  | 11     | :math:`c_{\\textrm{v}}`           | Heat capavity at 298.15K                                                          | :math:`\\frac{\\textrm{cal}}{\\textrm{mol K}}` |\n",
      " |  +--------+----------------------------------+-----------------------------------------------------------------------------------+---------------------------------------------+\n",
      " |  | 12     | :math:`U_0^{\\textrm{ATOM}}`      | Atomization energy at 0K                                                          | :math:`\\textrm{eV}`                         |\n",
      " |  +--------+----------------------------------+-----------------------------------------------------------------------------------+---------------------------------------------+\n",
      " |  | 13     | :math:`U^{\\textrm{ATOM}}`        | Atomization energy at 298.15K                                                     | :math:`\\textrm{eV}`                         |\n",
      " |  +--------+----------------------------------+-----------------------------------------------------------------------------------+---------------------------------------------+\n",
      " |  | 14     | :math:`H^{\\textrm{ATOM}}`        | Atomization enthalpy at 298.15K                                                   | :math:`\\textrm{eV}`                         |\n",
      " |  +--------+----------------------------------+-----------------------------------------------------------------------------------+---------------------------------------------+\n",
      " |  | 15     | :math:`G^{\\textrm{ATOM}}`        | Atomization free energy at 298.15K                                                | :math:`\\textrm{eV}`                         |\n",
      " |  +--------+----------------------------------+-----------------------------------------------------------------------------------+---------------------------------------------+\n",
      " |  | 16     | :math:`A`                        | Rotational constant                                                               | :math:`\\textrm{GHz}`                        |\n",
      " |  +--------+----------------------------------+-----------------------------------------------------------------------------------+---------------------------------------------+\n",
      " |  | 17     | :math:`B`                        | Rotational constant                                                               | :math:`\\textrm{GHz}`                        |\n",
      " |  +--------+----------------------------------+-----------------------------------------------------------------------------------+---------------------------------------------+\n",
      " |  | 18     | :math:`C`                        | Rotational constant                                                               | :math:`\\textrm{GHz}`                        |\n",
      " |  +--------+----------------------------------+-----------------------------------------------------------------------------------+---------------------------------------------+\n",
      " |  \n",
      " |  Args:\n",
      " |      root (string): Root directory where the dataset should be saved.\n",
      " |      transform (callable, optional): A function/transform that takes in an\n",
      " |          :obj:`torch_geometric.data.Data` object and returns a transformed\n",
      " |          version. The data object will be transformed before every access.\n",
      " |          (default: :obj:`None`)\n",
      " |      pre_transform (callable, optional): A function/transform that takes in\n",
      " |          an :obj:`torch_geometric.data.Data` object and returns a\n",
      " |          transformed version. The data object will be transformed before\n",
      " |          being saved to disk. (default: :obj:`None`)\n",
      " |      pre_filter (callable, optional): A function that takes in an\n",
      " |          :obj:`torch_geometric.data.Data` object and returns a boolean\n",
      " |          value, indicating whether the data object should be included in the\n",
      " |          final dataset. (default: :obj:`None`)\n",
      " |  \n",
      " |  Method resolution order:\n",
      " |      QM9\n",
      " |      torch_geometric.data.in_memory_dataset.InMemoryDataset\n",
      " |      torch_geometric.data.dataset.Dataset\n",
      " |      torch.utils.data.dataset.Dataset\n",
      " |      typing.Generic\n",
      " |      builtins.object\n",
      " |  \n",
      " |  Methods defined here:\n",
      " |  \n",
      " |  __init__(self, root, transform=None, pre_transform=None, pre_filter=None)\n",
      " |      Initialize self.  See help(type(self)) for accurate signature.\n",
      " |  \n",
      " |  atomref(self, target)\n",
      " |  \n",
      " |  download(self)\n",
      " |      Downloads the dataset to the :obj:`self.raw_dir` folder.\n",
      " |  \n",
      " |  mean(self, target)\n",
      " |  \n",
      " |  process(self)\n",
      " |      Processes the dataset to the :obj:`self.processed_dir` folder.\n",
      " |  \n",
      " |  std(self, target)\n",
      " |  \n",
      " |  ----------------------------------------------------------------------\n",
      " |  Readonly properties defined here:\n",
      " |  \n",
      " |  processed_file_names\n",
      " |      The name of the files to find in the :obj:`self.processed_dir`\n",
      " |      folder in order to skip the processing.\n",
      " |  \n",
      " |  raw_file_names\n",
      " |      The name of the files to find in the :obj:`self.raw_dir` folder in\n",
      " |      order to skip the download.\n",
      " |  \n",
      " |  ----------------------------------------------------------------------\n",
      " |  Data and other attributes defined here:\n",
      " |  \n",
      " |  __parameters__ = ()\n",
      " |  \n",
      " |  bonds = {rdkit.Chem.rdchem.BondType.SINGLE: 0, rdkit.Chem.rdchem.BondT...\n",
      " |  \n",
      " |  processed_url = 'https://pytorch-geometric.com/datasets/qm9_v2.zip'\n",
      " |  \n",
      " |  raw_url = 'https://deepchemdata.s3-us-west-1.amazonaws.com/datasets/mo...\n",
      " |  \n",
      " |  raw_url2 = 'https://ndownloader.figshare.com/files/3195404'\n",
      " |  \n",
      " |  symbols = {'C': 6, 'F': 9, 'H': 1, 'N': 7, 'O': 8}\n",
      " |  \n",
      " |  types = {'C': 1, 'F': 4, 'H': 0, 'N': 2, 'O': 3}\n",
      " |  \n",
      " |  ----------------------------------------------------------------------\n",
      " |  Methods inherited from torch_geometric.data.in_memory_dataset.InMemoryDataset:\n",
      " |  \n",
      " |  copy(self, idx=None)\n",
      " |  \n",
      " |  get(self, idx)\n",
      " |      Gets the data object at index :obj:`idx`.\n",
      " |  \n",
      " |  len(self)\n",
      " |  \n",
      " |  ----------------------------------------------------------------------\n",
      " |  Static methods inherited from torch_geometric.data.in_memory_dataset.InMemoryDataset:\n",
      " |  \n",
      " |  collate(data_list)\n",
      " |      Collates a python list of data objects to the internal storage\n",
      " |      format of :class:`torch_geometric.data.InMemoryDataset`.\n",
      " |  \n",
      " |  ----------------------------------------------------------------------\n",
      " |  Readonly properties inherited from torch_geometric.data.in_memory_dataset.InMemoryDataset:\n",
      " |  \n",
      " |  num_classes\n",
      " |      The number of classes in the dataset.\n",
      " |  \n",
      " |  ----------------------------------------------------------------------\n",
      " |  Methods inherited from torch_geometric.data.dataset.Dataset:\n",
      " |  \n",
      " |  __getitem__(self, idx)\n",
      " |      Gets the data object at index :obj:`idx` and transforms it (in case\n",
      " |      a :obj:`self.transform` is given).\n",
      " |      In case :obj:`idx` is a slicing object, *e.g.*, :obj:`[2:5]`, a list, a\n",
      " |      tuple, a  LongTensor or a BoolTensor, will return a subset of the\n",
      " |      dataset at the specified indices.\n",
      " |  \n",
      " |  __len__(self)\n",
      " |      The number of examples in the dataset.\n",
      " |  \n",
      " |  __repr__(self)\n",
      " |      Return repr(self).\n",
      " |  \n",
      " |  index_select(self, idx)\n",
      " |  \n",
      " |  indices(self)\n",
      " |  \n",
      " |  shuffle(self, return_perm=False)\n",
      " |      Randomly shuffles the examples in the dataset.\n",
      " |      \n",
      " |      Args:\n",
      " |          return_perm (bool, optional): If set to :obj:`True`, will\n",
      " |              additionally return the random permutation used to shuffle the\n",
      " |              dataset. (default: :obj:`False`)\n",
      " |  \n",
      " |  ----------------------------------------------------------------------\n",
      " |  Readonly properties inherited from torch_geometric.data.dataset.Dataset:\n",
      " |  \n",
      " |  num_edge_features\n",
      " |      Returns the number of features per edge in the dataset.\n",
      " |  \n",
      " |  num_features\n",
      " |      Alias for :py:attr:`~num_node_features`.\n",
      " |  \n",
      " |  num_node_features\n",
      " |      Returns the number of features per node in the dataset.\n",
      " |  \n",
      " |  processed_dir\n",
      " |  \n",
      " |  processed_paths\n",
      " |      The filepaths to find in the :obj:`self.processed_dir`\n",
      " |      folder in order to skip the processing.\n",
      " |  \n",
      " |  raw_dir\n",
      " |  \n",
      " |  raw_paths\n",
      " |      The filepaths to find in order to skip the download.\n",
      " |  \n",
      " |  ----------------------------------------------------------------------\n",
      " |  Methods inherited from torch.utils.data.dataset.Dataset:\n",
      " |  \n",
      " |  __add__(self, other: 'Dataset[T_co]') -> 'ConcatDataset[T_co]'\n",
      " |  \n",
      " |  ----------------------------------------------------------------------\n",
      " |  Data descriptors inherited from torch.utils.data.dataset.Dataset:\n",
      " |  \n",
      " |  __dict__\n",
      " |      dictionary for instance variables (if defined)\n",
      " |  \n",
      " |  __weakref__\n",
      " |      list of weak references to the object (if defined)\n",
      " |  \n",
      " |  ----------------------------------------------------------------------\n",
      " |  Data and other attributes inherited from torch.utils.data.dataset.Dataset:\n",
      " |  \n",
      " |  __orig_bases__ = (typing.Generic[+T_co],)\n",
      " |  \n",
      " |  ----------------------------------------------------------------------\n",
      " |  Class methods inherited from typing.Generic:\n",
      " |  \n",
      " |  __class_getitem__(params) from builtins.type\n",
      " |  \n",
      " |  __init_subclass__(*args, **kwargs) from builtins.type\n",
      " |      This method is called when a class is subclassed.\n",
      " |      \n",
      " |      The default implementation does nothing. It may be\n",
      " |      overridden to extend subclasses.\n",
      "\n"
     ]
    }
   ],
   "source": [
    "help(QM9)"
   ]
  },
  {
   "cell_type": "code",
   "execution_count": 24,
   "id": "45397145",
   "metadata": {},
   "outputs": [],
   "source": [
    "dataset = QM9(root='data/QM9')"
   ]
  },
  {
   "cell_type": "code",
   "execution_count": 25,
   "id": "c265bc57",
   "metadata": {},
   "outputs": [
    {
     "data": {
      "text/plain": [
       "130831"
      ]
     },
     "execution_count": 25,
     "metadata": {},
     "output_type": "execute_result"
    }
   ],
   "source": [
    "len(dataset)"
   ]
  },
  {
   "cell_type": "code",
   "execution_count": 26,
   "id": "7f7fb7df",
   "metadata": {},
   "outputs": [],
   "source": [
    "data = dataset[0]"
   ]
  },
  {
   "cell_type": "code",
   "execution_count": 27,
   "id": "4314c46f",
   "metadata": {},
   "outputs": [
    {
     "data": {
      "text/plain": [
       "11"
      ]
     },
     "execution_count": 27,
     "metadata": {},
     "output_type": "execute_result"
    }
   ],
   "source": [
    "dataset.num_node_features"
   ]
  },
  {
   "cell_type": "code",
   "execution_count": 28,
   "id": "b6f3ddff",
   "metadata": {},
   "outputs": [
    {
     "data": {
      "text/plain": [
       "4"
      ]
     },
     "execution_count": 28,
     "metadata": {},
     "output_type": "execute_result"
    }
   ],
   "source": [
    "dataset.num_edge_features"
   ]
  },
  {
   "cell_type": "code",
   "execution_count": 29,
   "id": "9625f6b2",
   "metadata": {},
   "outputs": [
    {
     "data": {
      "text/plain": [
       "5"
      ]
     },
     "execution_count": 29,
     "metadata": {},
     "output_type": "execute_result"
    }
   ],
   "source": [
    "data.num_nodes"
   ]
  },
  {
   "cell_type": "code",
   "execution_count": 30,
   "id": "e8612afe",
   "metadata": {},
   "outputs": [
    {
     "data": {
      "text/plain": [
       "8"
      ]
     },
     "execution_count": 30,
     "metadata": {},
     "output_type": "execute_result"
    }
   ],
   "source": [
    "data.num_edges"
   ]
  },
  {
   "cell_type": "code",
   "execution_count": 31,
   "id": "c9d358c6",
   "metadata": {},
   "outputs": [
    {
     "data": {
      "text/plain": [
       "Data(edge_attr=[8, 4], edge_index=[2, 8], idx=[1], name=\"gdb_1\", pos=[5, 3], x=[5, 11], y=[1, 19], z=[5])"
      ]
     },
     "execution_count": 31,
     "metadata": {},
     "output_type": "execute_result"
    }
   ],
   "source": [
    "data"
   ]
  },
  {
   "cell_type": "code",
   "execution_count": 32,
   "id": "e8f8639d",
   "metadata": {},
   "outputs": [
    {
     "data": {
      "text/plain": [
       "tensor([[0., 1., 0., 0., 0., 6., 0., 0., 0., 0., 4.],\n",
       "        [1., 0., 0., 0., 0., 1., 0., 0., 0., 0., 0.],\n",
       "        [1., 0., 0., 0., 0., 1., 0., 0., 0., 0., 0.],\n",
       "        [1., 0., 0., 0., 0., 1., 0., 0., 0., 0., 0.],\n",
       "        [1., 0., 0., 0., 0., 1., 0., 0., 0., 0., 0.]])"
      ]
     },
     "execution_count": 32,
     "metadata": {},
     "output_type": "execute_result"
    }
   ],
   "source": [
    "data.x"
   ]
  },
  {
   "cell_type": "code",
   "execution_count": 33,
   "id": "f04c086e",
   "metadata": {},
   "outputs": [
    {
     "data": {
      "text/plain": [
       "tensor([[0, 1],\n",
       "        [0, 2],\n",
       "        [0, 3],\n",
       "        [0, 4],\n",
       "        [1, 0],\n",
       "        [2, 0],\n",
       "        [3, 0],\n",
       "        [4, 0]])"
      ]
     },
     "execution_count": 33,
     "metadata": {},
     "output_type": "execute_result"
    }
   ],
   "source": [
    "data.edge_index.t()"
   ]
  },
  {
   "cell_type": "code",
   "execution_count": 15,
   "id": "40c90e2c",
   "metadata": {},
   "outputs": [
    {
     "data": {
      "text/plain": [
       "tensor(True)"
      ]
     },
     "execution_count": 15,
     "metadata": {},
     "output_type": "execute_result"
    }
   ],
   "source": [
    "data.is_undirected()"
   ]
  },
  {
   "cell_type": "code",
   "execution_count": 16,
   "id": "d3b9858f",
   "metadata": {},
   "outputs": [
    {
     "data": {
      "text/plain": [
       "5"
      ]
     },
     "execution_count": 16,
     "metadata": {},
     "output_type": "execute_result"
    }
   ],
   "source": [
    "data.num_nodes"
   ]
  },
  {
   "cell_type": "code",
   "execution_count": 19,
   "id": "86560246",
   "metadata": {},
   "outputs": [
    {
     "data": {
      "text/plain": [
       "tensor([[    0.0000],\n",
       "        [   13.2100],\n",
       "        [  -10.5499],\n",
       "        [    3.1865],\n",
       "        [   13.7363],\n",
       "        [   35.3641],\n",
       "        [    1.2177],\n",
       "        [-1101.4878],\n",
       "        [-1101.4098],\n",
       "        [-1101.3840],\n",
       "        [-1102.0229],\n",
       "        [    6.4690],\n",
       "        [  -17.1722],\n",
       "        [  -17.2868],\n",
       "        [  -17.3897],\n",
       "        [  -16.1519],\n",
       "        [  157.7118],\n",
       "        [  157.7100],\n",
       "        [  157.7070]])"
      ]
     },
     "execution_count": 19,
     "metadata": {},
     "output_type": "execute_result"
    }
   ],
   "source": [
    "data.y.t()"
   ]
  },
  {
   "cell_type": "code",
   "execution_count": 20,
   "id": "397cebcc",
   "metadata": {},
   "outputs": [
    {
     "data": {
      "text/plain": [
       "tensor([[-1.2700e-02,  1.0858e+00,  8.0000e-03],\n",
       "        [ 2.2000e-03, -6.0000e-03,  2.0000e-03],\n",
       "        [ 1.0117e+00,  1.4638e+00,  3.0000e-04],\n",
       "        [-5.4080e-01,  1.4475e+00, -8.7660e-01],\n",
       "        [-5.2380e-01,  1.4379e+00,  9.0640e-01]])"
      ]
     },
     "execution_count": 20,
     "metadata": {},
     "output_type": "execute_result"
    }
   ],
   "source": [
    "data.pos"
   ]
  },
  {
   "cell_type": "code",
   "execution_count": 22,
   "id": "96f48285",
   "metadata": {},
   "outputs": [
    {
     "data": {
      "text/plain": [
       "torch.Tensor"
      ]
     },
     "execution_count": 22,
     "metadata": {},
     "output_type": "execute_result"
    }
   ],
   "source": [
    "type(data.edge_attr)"
   ]
  },
  {
   "cell_type": "code",
   "execution_count": null,
   "id": "ca2f3259",
   "metadata": {},
   "outputs": [],
   "source": []
  }
 ],
 "metadata": {
  "kernelspec": {
   "display_name": "Python 3",
   "language": "python",
   "name": "python3"
  },
  "language_info": {
   "codemirror_mode": {
    "name": "ipython",
    "version": 3
   },
   "file_extension": ".py",
   "mimetype": "text/x-python",
   "name": "python",
   "nbconvert_exporter": "python",
   "pygments_lexer": "ipython3",
   "version": "3.9.2"
  }
 },
 "nbformat": 4,
 "nbformat_minor": 5
}
