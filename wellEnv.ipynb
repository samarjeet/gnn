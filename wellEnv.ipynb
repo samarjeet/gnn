{
 "cells": [
  {
   "cell_type": "code",
   "execution_count": 3,
   "id": "41dea2c8",
   "metadata": {},
   "outputs": [
    {
     "name": "stdout",
     "output_type": "stream",
     "text": [
      "/v/apps/clang/8.0.1/lib:/v/apps/fftw/3.3.7/gcc_8.2/lib:/v/apps/cuda/10.1.168/lib64:/v/apps/mpi/mvapich2/2.3/gcc_8.2/lib:/v/apps/gcc/8.2/lib64:/v/apps/valgrind/3.12.0/lib/valgrind:/v/apps/gdb/7.12-centos7/lib64::/u/samar/.mujoco/mujoco200/bin:/u/samar/Documents/git/protobuf/protbuf_install:/u/samar/Documents/git/caffe2/install/lib:/u/samar/Documents/git/protobuf/protbuf_install/:/u/samar/Documents/git/caffe2/install/lib\r\n"
     ]
    }
   ],
   "source": [
    "!echo $LD_LIBRARY_PATH"
   ]
  },
  {
   "cell_type": "code",
   "execution_count": 2,
   "id": "8dd6bed5",
   "metadata": {},
   "outputs": [],
   "source": [
    "!source ~/.bashrc"
   ]
  },
  {
   "cell_type": "code",
   "execution_count": 4,
   "id": "77ea3b34",
   "metadata": {},
   "outputs": [
    {
     "name": "stdout",
     "output_type": "stream",
     "text": [
      "Linux g98.lobos.nih.gov 3.10.0-957.el7.x86_64 #1 SMP Thu Nov 8 23:39:32 UTC 2018 x86_64 x86_64 x86_64 GNU/Linux\r\n"
     ]
    }
   ],
   "source": [
    "!uname -a"
   ]
  },
  {
   "cell_type": "code",
   "execution_count": null,
   "id": "dd453315",
   "metadata": {},
   "outputs": [],
   "source": []
  }
 ],
 "metadata": {
  "kernelspec": {
   "display_name": "Python 3 (ipykernel)",
   "language": "python",
   "name": "python3"
  },
  "language_info": {
   "codemirror_mode": {
    "name": "ipython",
    "version": 3
   },
   "file_extension": ".py",
   "mimetype": "text/x-python",
   "name": "python",
   "nbconvert_exporter": "python",
   "pygments_lexer": "ipython3",
   "version": "3.8.10"
  }
 },
 "nbformat": 4,
 "nbformat_minor": 5
}
