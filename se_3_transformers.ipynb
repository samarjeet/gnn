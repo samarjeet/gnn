{
 "cells": [
  {
   "cell_type": "code",
   "execution_count": 1,
   "id": "9269bb5f",
   "metadata": {},
   "outputs": [],
   "source": [
    "from math import sqrt\n",
    "from itertools import product\n",
    "from collections import namedtuple\n",
    "\n",
    "import torch\n",
    "import torch.nn.functional as F\n",
    "from torch import nn, einsum"
   ]
  },
  {
   "cell_type": "code",
   "execution_count": 5,
   "id": "37970134",
   "metadata": {},
   "outputs": [],
   "source": [
    "class SE3Transformer(nn.Module):\n",
    "    def __init__(\n",
    "        self,\n",
    "        dim,\n",
    "        heads=8,\n",
    "        dim_head=24\n",
    "    ):\n",
    "        \n",
    "        super().__init__()\n",
    "        #dim_in = defa\n",
    "        self.dim=dim\n",
    "    def forward(\n",
    "        self,\n",
    "        feats\n",
    "    ):\n",
    "        \n",
    "        pass"
   ]
  },
  {
   "cell_type": "code",
   "execution_count": 6,
   "id": "f38768c9",
   "metadata": {},
   "outputs": [],
   "source": [
    "model = SE3Transformer(dim=3)"
   ]
  },
  {
   "cell_type": "code",
   "execution_count": null,
   "id": "81967241",
   "metadata": {},
   "outputs": [],
   "source": []
  }
 ],
 "metadata": {
  "kernelspec": {
   "display_name": "Python 3",
   "language": "python",
   "name": "python3"
  },
  "language_info": {
   "codemirror_mode": {
    "name": "ipython",
    "version": 3
   },
   "file_extension": ".py",
   "mimetype": "text/x-python",
   "name": "python",
   "nbconvert_exporter": "python",
   "pygments_lexer": "ipython3",
   "version": "3.9.2"
  }
 },
 "nbformat": 4,
 "nbformat_minor": 5
}
