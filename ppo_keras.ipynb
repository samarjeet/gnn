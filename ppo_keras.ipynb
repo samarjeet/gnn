{
 "cells": [
  {
   "cell_type": "code",
   "execution_count": 2,
   "id": "3f3e46d6",
   "metadata": {},
   "outputs": [
    {
     "name": "stderr",
     "output_type": "stream",
     "text": [
      "2021-08-16 15:04:49.792489: W tensorflow/stream_executor/platform/default/dso_loader.cc:64] Could not load dynamic library 'libcudart.so.11.0'; dlerror: libcudart.so.11.0: cannot open shared object file: No such file or directory; LD_LIBRARY_PATH: /v/apps/clang/8.0.1/lib:/v/apps/fftw/3.3.7/gcc_8.2/lib:/v/apps/cuda/10.1.168/lib64:/v/apps/mpi/mvapich2/2.3/gcc_8.2/lib:/v/apps/gcc/8.2/lib64:/v/apps/valgrind/3.12.0/lib/valgrind:/v/apps/gdb/7.12-centos7/lib64::/u/samar/.mujoco/mujoco200/bin:/u/samar/Documents/git/protobuf/protbuf_install:/u/samar/Documents/git/caffe2/install/lib:/u/samar/Documents/git/protobuf/protbuf_install/:/u/samar/Documents/git/caffe2/install/lib\n",
      "2021-08-16 15:04:49.792554: I tensorflow/stream_executor/cuda/cudart_stub.cc:29] Ignore above cudart dlerror if you do not have a GPU set up on your machine.\n"
     ]
    }
   ],
   "source": [
    "import numpy as np\n",
    "import tensorflow as tf\n",
    "from tensorflow import keras\n",
    "from tensorflow.keras import layers\n",
    "import gym\n",
    "import scipy.signal\n",
    "import time\n"
   ]
  },
  {
   "cell_type": "code",
   "execution_count": 7,
   "id": "da1b3099",
   "metadata": {},
   "outputs": [],
   "source": [
    "class Buffer:\n",
    "    def __init(self):\n",
    "        pass\n",
    "\n",
    "def mlp(x, sizes, activation=tf.tanh, output_activation=None):\n",
    "    for size in sizes[:-1]:\n",
    "        x = layers.Dense(units=size, activation=activation)(x)\n",
    "    return layers.Dense(units=sizes[-1], activation=output_activation)(x)\n",
    "\n"
   ]
  },
  {
   "cell_type": "code",
   "execution_count": 3,
   "id": "33ff9fbb",
   "metadata": {},
   "outputs": [],
   "source": [
    "# Hyperparameters of the PPO algorithm\n",
    "steps_per_epoch = 4000\n",
    "epochs = 30\n",
    "gamma = 0.99\n",
    "clip_ratio = 0.2\n",
    "policy_learning_rate = 3e-4\n",
    "value_function_learning_rate = 1e-3\n",
    "train_policy_iterations = 80\n",
    "train_value_iterations = 80\n",
    "lam = 0.97\n",
    "target_kl = 0.01\n",
    "hidden_sizes = (64, 64)\n",
    "\n",
    "# True if you want to render the environment\n",
    "render = False\n"
   ]
  },
  {
   "cell_type": "code",
   "execution_count": 5,
   "id": "04a08500",
   "metadata": {},
   "outputs": [],
   "source": [
    "env = gym.make('CartPole-v0')\n",
    "observation_dimensions = env.observation_space.shape[0]\n",
    "num_actions = env.action_space.n\n",
    "\n",
    "buffer = BufferError"
   ]
  },
  {
   "cell_type": "code",
   "execution_count": null,
   "id": "1f9e9ea1",
   "metadata": {},
   "outputs": [],
   "source": []
  }
 ],
 "metadata": {
  "kernelspec": {
   "display_name": "Python 3 (ipykernel)",
   "language": "python",
   "name": "python3"
  },
  "language_info": {
   "codemirror_mode": {
    "name": "ipython",
    "version": 3
   },
   "file_extension": ".py",
   "mimetype": "text/x-python",
   "name": "python",
   "nbconvert_exporter": "python",
   "pygments_lexer": "ipython3",
   "version": "3.8.10"
  }
 },
 "nbformat": 4,
 "nbformat_minor": 5
}
