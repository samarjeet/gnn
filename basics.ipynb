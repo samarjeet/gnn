{
 "cells": [
  {
   "cell_type": "code",
   "execution_count": 1,
   "id": "43247c07",
   "metadata": {},
   "outputs": [],
   "source": [
    "import torch \n",
    "from torch_geometric.data import Data"
   ]
  },
  {
   "cell_type": "code",
   "execution_count": 2,
   "id": "c5ba5b34",
   "metadata": {},
   "outputs": [],
   "source": [
    "edge_index = torch.tensor([[0, 1, 1, 2], \n",
    "                           [1, 0, 2, 1]], dtype=torch.long)"
   ]
  },
  {
   "cell_type": "code",
   "execution_count": 5,
   "id": "0909c160",
   "metadata": {},
   "outputs": [],
   "source": [
    "x = torch.tensor([[-1], [0], [1]], dtype=torch.float)"
   ]
  },
  {
   "cell_type": "code",
   "execution_count": 7,
   "id": "1318b890",
   "metadata": {},
   "outputs": [],
   "source": [
    "data = Data(x=x, edge_index=edge_index)"
   ]
  },
  {
   "cell_type": "code",
   "execution_count": 11,
   "id": "61d2bfdc",
   "metadata": {},
   "outputs": [
    {
     "data": {
      "text/plain": [
       "['x', 'edge_index']"
      ]
     },
     "execution_count": 11,
     "metadata": {},
     "output_type": "execute_result"
    }
   ],
   "source": [
    "data.keys"
   ]
  },
  {
   "cell_type": "code",
   "execution_count": 13,
   "id": "40d8baa4",
   "metadata": {},
   "outputs": [
    {
     "data": {
      "text/plain": [
       "tensor([[-1.],\n",
       "        [ 0.],\n",
       "        [ 1.]])"
      ]
     },
     "execution_count": 13,
     "metadata": {},
     "output_type": "execute_result"
    }
   ],
   "source": [
    "data.x"
   ]
  },
  {
   "cell_type": "code",
   "execution_count": 14,
   "id": "0e248008",
   "metadata": {},
   "outputs": [
    {
     "data": {
      "text/plain": [
       "tensor([[0, 1, 1, 2],\n",
       "        [1, 0, 2, 1]])"
      ]
     },
     "execution_count": 14,
     "metadata": {},
     "output_type": "execute_result"
    }
   ],
   "source": [
    "data.edge_index"
   ]
  },
  {
   "cell_type": "code",
   "execution_count": 15,
   "id": "00e88354",
   "metadata": {},
   "outputs": [
    {
     "data": {
      "text/plain": [
       "3"
      ]
     },
     "execution_count": 15,
     "metadata": {},
     "output_type": "execute_result"
    }
   ],
   "source": [
    "data.num_nodes"
   ]
  },
  {
   "cell_type": "code",
   "execution_count": 16,
   "id": "ff9d204a",
   "metadata": {},
   "outputs": [
    {
     "data": {
      "text/plain": [
       "4"
      ]
     },
     "execution_count": 16,
     "metadata": {},
     "output_type": "execute_result"
    }
   ],
   "source": [
    "data.num_edges"
   ]
  },
  {
   "cell_type": "code",
   "execution_count": 17,
   "id": "b718658d",
   "metadata": {},
   "outputs": [
    {
     "data": {
      "text/plain": [
       "False"
      ]
     },
     "execution_count": 17,
     "metadata": {},
     "output_type": "execute_result"
    }
   ],
   "source": [
    "data.is_directed()"
   ]
  },
  {
   "cell_type": "code",
   "execution_count": 19,
   "id": "82f640c8",
   "metadata": {},
   "outputs": [],
   "source": [
    "from torch_geometric.datasets import TUDataset"
   ]
  },
  {
   "cell_type": "code",
   "execution_count": 42,
   "id": "5b0cd86e",
   "metadata": {},
   "outputs": [],
   "source": [
    "dataset = TUDataset(root='data/ENZYMES', name='ENZYMES')"
   ]
  },
  {
   "cell_type": "code",
   "execution_count": 43,
   "id": "e2072bd4",
   "metadata": {},
   "outputs": [
    {
     "data": {
      "text/plain": [
       "600"
      ]
     },
     "execution_count": 43,
     "metadata": {},
     "output_type": "execute_result"
    }
   ],
   "source": [
    "len(dataset) # There are 600 graphs in this dataset"
   ]
  },
  {
   "cell_type": "code",
   "execution_count": 44,
   "id": "fc1a0881",
   "metadata": {},
   "outputs": [
    {
     "data": {
      "text/plain": [
       "6"
      ]
     },
     "execution_count": 44,
     "metadata": {},
     "output_type": "execute_result"
    }
   ],
   "source": [
    "dataset.num_classes"
   ]
  },
  {
   "cell_type": "code",
   "execution_count": 45,
   "id": "10caed98",
   "metadata": {},
   "outputs": [
    {
     "data": {
      "text/plain": [
       "3"
      ]
     },
     "execution_count": 45,
     "metadata": {},
     "output_type": "execute_result"
    }
   ],
   "source": [
    "dataset.num_node_features"
   ]
  },
  {
   "cell_type": "code",
   "execution_count": 36,
   "id": "51da539f",
   "metadata": {},
   "outputs": [],
   "source": [
    "data = dataset[0]"
   ]
  },
  {
   "cell_type": "code",
   "execution_count": 37,
   "id": "b190a9a7",
   "metadata": {},
   "outputs": [
    {
     "data": {
      "text/plain": [
       "Data(edge_index=[2, 168], x=[37, 3], y=[1])"
      ]
     },
     "execution_count": 37,
     "metadata": {},
     "output_type": "execute_result"
    }
   ],
   "source": [
    "data # This graph has 168 edges and 37 nodes. Each node has 3 features"
   ]
  },
  {
   "cell_type": "code",
   "execution_count": 38,
   "id": "a777ad60",
   "metadata": {},
   "outputs": [
    {
     "data": {
      "text/plain": [
       "Data(edge_index=[2, 102], x=[23, 3], y=[1])"
      ]
     },
     "execution_count": 38,
     "metadata": {},
     "output_type": "execute_result"
    }
   ],
   "source": [
    "dataset[1]"
   ]
  },
  {
   "cell_type": "code",
   "execution_count": 39,
   "id": "e7187dd9",
   "metadata": {},
   "outputs": [],
   "source": [
    "from torch_geometric.datasets import Planetoid"
   ]
  },
  {
   "cell_type": "code",
   "execution_count": 46,
   "id": "92985f00",
   "metadata": {},
   "outputs": [],
   "source": [
    "dataset = Planetoid(root='data/Cora', name='Cora')"
   ]
  },
  {
   "cell_type": "code",
   "execution_count": 47,
   "id": "dd8473d5",
   "metadata": {},
   "outputs": [
    {
     "data": {
      "text/plain": [
       "1"
      ]
     },
     "execution_count": 47,
     "metadata": {},
     "output_type": "execute_result"
    }
   ],
   "source": [
    "len(dataset)"
   ]
  },
  {
   "cell_type": "code",
   "execution_count": 48,
   "id": "250b912d",
   "metadata": {},
   "outputs": [
    {
     "data": {
      "text/plain": [
       "Data(edge_index=[2, 10556], test_mask=[2708], train_mask=[2708], val_mask=[2708], x=[2708, 1433], y=[2708])"
      ]
     },
     "execution_count": 48,
     "metadata": {},
     "output_type": "execute_result"
    }
   ],
   "source": [
    "dataset[0]"
   ]
  },
  {
   "cell_type": "code",
   "execution_count": 49,
   "id": "46f306bf",
   "metadata": {},
   "outputs": [
    {
     "data": {
      "text/plain": [
       "tensor(140)"
      ]
     },
     "execution_count": 49,
     "metadata": {},
     "output_type": "execute_result"
    }
   ],
   "source": [
    "dataset[0].train_mask.sum()"
   ]
  },
  {
   "cell_type": "code",
   "execution_count": 50,
   "id": "33837c65",
   "metadata": {},
   "outputs": [],
   "source": [
    "from torch_geometric.data import DataLoader"
   ]
  },
  {
   "cell_type": "code",
   "execution_count": 58,
   "id": "e0169919",
   "metadata": {},
   "outputs": [],
   "source": [
    "dataset = TUDataset(root='data/ENZYMES', name='ENZYMES', use_node_attr=True)\n",
    "loader = DataLoader(dataset, batch_size=32, shuffle=True)"
   ]
  },
  {
   "cell_type": "code",
   "execution_count": 59,
   "id": "90087f4e",
   "metadata": {},
   "outputs": [
    {
     "name": "stdout",
     "output_type": "stream",
     "text": [
      "Batch(batch=[1015], edge_index=[2, 3994], ptr=[33], x=[1015, 21], y=[32])\n",
      "32\n",
      "Batch(batch=[1023], edge_index=[2, 4054], ptr=[33], x=[1023, 21], y=[32])\n",
      "32\n",
      "Batch(batch=[1125], edge_index=[2, 4430], ptr=[33], x=[1125, 21], y=[32])\n",
      "32\n",
      "Batch(batch=[1059], edge_index=[2, 3992], ptr=[33], x=[1059, 21], y=[32])\n",
      "32\n",
      "Batch(batch=[1018], edge_index=[2, 3936], ptr=[33], x=[1018, 21], y=[32])\n",
      "32\n",
      "Batch(batch=[1014], edge_index=[2, 3646], ptr=[33], x=[1014, 21], y=[32])\n",
      "32\n",
      "Batch(batch=[1146], edge_index=[2, 4238], ptr=[33], x=[1146, 21], y=[32])\n",
      "32\n",
      "Batch(batch=[909], edge_index=[2, 3440], ptr=[33], x=[909, 21], y=[32])\n",
      "32\n",
      "Batch(batch=[997], edge_index=[2, 3962], ptr=[33], x=[997, 21], y=[32])\n",
      "32\n",
      "Batch(batch=[1084], edge_index=[2, 4114], ptr=[33], x=[1084, 21], y=[32])\n",
      "32\n",
      "Batch(batch=[1148], edge_index=[2, 3980], ptr=[33], x=[1148, 21], y=[32])\n",
      "32\n",
      "Batch(batch=[1008], edge_index=[2, 3936], ptr=[33], x=[1008, 21], y=[32])\n",
      "32\n",
      "Batch(batch=[969], edge_index=[2, 3722], ptr=[33], x=[969, 21], y=[32])\n",
      "32\n",
      "Batch(batch=[1102], edge_index=[2, 4072], ptr=[33], x=[1102, 21], y=[32])\n",
      "32\n",
      "Batch(batch=[1059], edge_index=[2, 4052], ptr=[33], x=[1059, 21], y=[32])\n",
      "32\n",
      "Batch(batch=[929], edge_index=[2, 3684], ptr=[33], x=[929, 21], y=[32])\n",
      "32\n",
      "Batch(batch=[989], edge_index=[2, 3840], ptr=[33], x=[989, 21], y=[32])\n",
      "32\n",
      "Batch(batch=[1171], edge_index=[2, 4352], ptr=[33], x=[1171, 21], y=[32])\n",
      "32\n",
      "Batch(batch=[815], edge_index=[2, 3120], ptr=[25], x=[815, 21], y=[24])\n",
      "24\n"
     ]
    }
   ],
   "source": [
    "for batch in loader :\n",
    "    print(batch)\n",
    "    print(batch.num_graphs)"
   ]
  },
  {
   "cell_type": "code",
   "execution_count": 56,
   "id": "b03baf06",
   "metadata": {},
   "outputs": [
    {
     "data": {
      "text/plain": [
       "600"
      ]
     },
     "execution_count": 56,
     "metadata": {},
     "output_type": "execute_result"
    }
   ],
   "source": [
    "len(dataset)"
   ]
  },
  {
   "cell_type": "code",
   "execution_count": null,
   "id": "a31e4ee4",
   "metadata": {},
   "outputs": [],
   "source": []
  }
 ],
 "metadata": {
  "kernelspec": {
   "display_name": "Python 3",
   "language": "python",
   "name": "python3"
  },
  "language_info": {
   "codemirror_mode": {
    "name": "ipython",
    "version": 3
   },
   "file_extension": ".py",
   "mimetype": "text/x-python",
   "name": "python",
   "nbconvert_exporter": "python",
   "pygments_lexer": "ipython3",
   "version": "3.9.2"
  }
 },
 "nbformat": 4,
 "nbformat_minor": 5
}
