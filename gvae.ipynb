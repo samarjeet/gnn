{
 "cells": [
  {
   "cell_type": "code",
   "execution_count": 1,
   "id": "765da20d",
   "metadata": {},
   "outputs": [],
   "source": [
    "import torch\n",
    "from torch_geometric.datasets import Planetoid\n",
    "import torch_geometric.transforms as T\n",
    "from torch_geometric.nn import GCNConv\n",
    "from torch_geometric.utils import train_test_split_edges"
   ]
  },
  {
   "cell_type": "code",
   "execution_count": 7,
   "id": "5a9ed729",
   "metadata": {},
   "outputs": [
    {
     "data": {
      "text/plain": [
       "Data(edge_index=[2, 9104], test_mask=[3327], train_mask=[3327], val_mask=[3327], x=[3327, 3703], y=[3327])"
      ]
     },
     "execution_count": 7,
     "metadata": {},
     "output_type": "execute_result"
    }
   ],
   "source": [
    "dataset = Planetoid(\"data\", \"CiteSeer\", transform=T.NormalizeFeatures())\n",
    "dataset.data"
   ]
  },
  {
   "cell_type": "code",
   "execution_count": 8,
   "id": "d238e82c",
   "metadata": {},
   "outputs": [],
   "source": [
    "data = dataset[0]"
   ]
  },
  {
   "cell_type": "code",
   "execution_count": 10,
   "id": "15856eb7",
   "metadata": {},
   "outputs": [
    {
     "data": {
      "text/plain": [
       "Data(edge_index=[2, 9104], x=[3327, 3703], y=[3327])"
      ]
     },
     "execution_count": 10,
     "metadata": {},
     "output_type": "execute_result"
    }
   ],
   "source": [
    "data.train_mask = data.test_mask = data.val_mask = None\n",
    "data"
   ]
  },
  {
   "cell_type": "code",
   "execution_count": 11,
   "id": "1aaa5617",
   "metadata": {},
   "outputs": [
    {
     "data": {
      "text/plain": [
       "Data(test_neg_edge_index=[2, 455], test_pos_edge_index=[2, 455], train_neg_adj_mask=[3327, 3327], train_pos_edge_index=[2, 7740], val_neg_edge_index=[2, 227], val_pos_edge_index=[2, 227], x=[3327, 3703], y=[3327])"
      ]
     },
     "execution_count": 11,
     "metadata": {},
     "output_type": "execute_result"
    }
   ],
   "source": [
    "data = train_test_split_edges(data)\n",
    "data"
   ]
  },
  {
   "cell_type": "code",
   "execution_count": 15,
   "id": "25d4f0f4",
   "metadata": {},
   "outputs": [],
   "source": [
    "class GCNEncoder(torch.nn.Module):\n",
    "    def __init__(self, in_channels, out_channels):\n",
    "        super(GCNEncoder, self).__init__()\n",
    "        self.conv1 = GCNConv(in_channels, 2*out_channels, cached=True)\n",
    "        self.conv2 = GCNConv(2*out_channels, out_channels, cached=True)\n",
    "    \n",
    "    def forward(self, x, edge_index):\n",
    "        x = self.conv1(x, edge_index).relu()\n",
    "        return self.conv2(x, edge_index)"
   ]
  },
  {
   "cell_type": "code",
   "execution_count": 16,
   "id": "a110bc35",
   "metadata": {},
   "outputs": [],
   "source": [
    "from torch_geometric.nn import GAE"
   ]
  },
  {
   "cell_type": "code",
   "execution_count": 18,
   "id": "c02a1ead",
   "metadata": {},
   "outputs": [],
   "source": [
    "# parameters\n",
    "out_channels = 2\n",
    "num_features = dataset.num_features\n",
    "epochs = 100\n",
    "\n",
    "# model\n",
    "model = GAE(GCNEncoder(num_features, out_channels))\n",
    "\n",
    "# move to GPU \n",
    "device = torch.device('cuda' if torch.cuda.is_available() else 'cpu')\n",
    "model = model.to(device)\n",
    "x = data.x.to(device)\n",
    "#train_pos_edge_index = data[data.train_pos_edge_index].to(device)\n",
    "train_pos_edge_index = data.train_pos_edge_index.to(device)\n",
    "\n",
    "# initialize the optimizer\n",
    "optimizer = torch.optim.Adam(model.parameters(), lr=0.01)"
   ]
  },
  {
   "cell_type": "code",
   "execution_count": 19,
   "id": "b559bb18",
   "metadata": {},
   "outputs": [],
   "source": [
    "def train():\n",
    "    model.train()\n",
    "    optimizer.zero_grad()\n",
    "    z = model.encode(x, train_pos_edge_index)\n",
    "    loss = model.recon_loss(z, train_pos_edge_index)\n",
    "    loss.backward()\n",
    "    optimizer.step()\n",
    "    return float(loss)\n",
    "\n",
    "def test(pos_edge_index, neg_edge_index):\n",
    "    model.eval()\n",
    "    with torch.no_grad():\n",
    "        z = model.encode(x, train_pos_edge_index)\n",
    "    return model.test(z, pos_edge_index, neg_edge_index)"
   ]
  },
  {
   "cell_type": "code",
   "execution_count": 22,
   "id": "4c9c109e",
   "metadata": {},
   "outputs": [
    {
     "name": "stdout",
     "output_type": "stream",
     "text": [
      "Epoch: 001, AUC: 0.6488, AP: 0.6882\n",
      "Epoch: 002, AUC: 0.6572, AP: 0.6965\n",
      "Epoch: 003, AUC: 0.6671, AP: 0.7054\n",
      "Epoch: 004, AUC: 0.6712, AP: 0.7102\n",
      "Epoch: 005, AUC: 0.6725, AP: 0.7123\n",
      "Epoch: 006, AUC: 0.6730, AP: 0.7141\n",
      "Epoch: 007, AUC: 0.6729, AP: 0.7158\n",
      "Epoch: 008, AUC: 0.6719, AP: 0.7162\n",
      "Epoch: 009, AUC: 0.6717, AP: 0.7167\n",
      "Epoch: 010, AUC: 0.6710, AP: 0.7167\n",
      "Epoch: 011, AUC: 0.6703, AP: 0.7170\n",
      "Epoch: 012, AUC: 0.6698, AP: 0.7177\n",
      "Epoch: 013, AUC: 0.6693, AP: 0.7181\n",
      "Epoch: 014, AUC: 0.6685, AP: 0.7188\n",
      "Epoch: 015, AUC: 0.6681, AP: 0.7196\n",
      "Epoch: 016, AUC: 0.6676, AP: 0.7202\n",
      "Epoch: 017, AUC: 0.6673, AP: 0.7208\n",
      "Epoch: 018, AUC: 0.6671, AP: 0.7216\n",
      "Epoch: 019, AUC: 0.6666, AP: 0.7217\n",
      "Epoch: 020, AUC: 0.6660, AP: 0.7218\n",
      "Epoch: 021, AUC: 0.6655, AP: 0.7218\n",
      "Epoch: 022, AUC: 0.6647, AP: 0.7216\n",
      "Epoch: 023, AUC: 0.6646, AP: 0.7218\n",
      "Epoch: 024, AUC: 0.6642, AP: 0.7216\n",
      "Epoch: 025, AUC: 0.6642, AP: 0.7218\n",
      "Epoch: 026, AUC: 0.6644, AP: 0.7221\n",
      "Epoch: 027, AUC: 0.6651, AP: 0.7224\n",
      "Epoch: 028, AUC: 0.6659, AP: 0.7228\n",
      "Epoch: 029, AUC: 0.6668, AP: 0.7232\n",
      "Epoch: 030, AUC: 0.6678, AP: 0.7236\n",
      "Epoch: 031, AUC: 0.6688, AP: 0.7238\n",
      "Epoch: 032, AUC: 0.6709, AP: 0.7248\n",
      "Epoch: 033, AUC: 0.6737, AP: 0.7257\n",
      "Epoch: 034, AUC: 0.6780, AP: 0.7277\n",
      "Epoch: 035, AUC: 0.6840, AP: 0.7302\n",
      "Epoch: 036, AUC: 0.6915, AP: 0.7335\n",
      "Epoch: 037, AUC: 0.6996, AP: 0.7371\n",
      "Epoch: 038, AUC: 0.7087, AP: 0.7415\n",
      "Epoch: 039, AUC: 0.7195, AP: 0.7468\n",
      "Epoch: 040, AUC: 0.7270, AP: 0.7506\n",
      "Epoch: 041, AUC: 0.7352, AP: 0.7551\n",
      "Epoch: 042, AUC: 0.7444, AP: 0.7602\n",
      "Epoch: 043, AUC: 0.7519, AP: 0.7645\n",
      "Epoch: 044, AUC: 0.7582, AP: 0.7685\n",
      "Epoch: 045, AUC: 0.7626, AP: 0.7714\n",
      "Epoch: 046, AUC: 0.7665, AP: 0.7735\n",
      "Epoch: 047, AUC: 0.7696, AP: 0.7752\n",
      "Epoch: 048, AUC: 0.7722, AP: 0.7763\n",
      "Epoch: 049, AUC: 0.7742, AP: 0.7772\n",
      "Epoch: 050, AUC: 0.7761, AP: 0.7780\n",
      "Epoch: 051, AUC: 0.7779, AP: 0.7788\n",
      "Epoch: 052, AUC: 0.7786, AP: 0.7789\n",
      "Epoch: 053, AUC: 0.7794, AP: 0.7792\n",
      "Epoch: 054, AUC: 0.7807, AP: 0.7796\n",
      "Epoch: 055, AUC: 0.7813, AP: 0.7797\n",
      "Epoch: 056, AUC: 0.7819, AP: 0.7800\n",
      "Epoch: 057, AUC: 0.7823, AP: 0.7801\n",
      "Epoch: 058, AUC: 0.7824, AP: 0.7803\n",
      "Epoch: 059, AUC: 0.7830, AP: 0.7807\n",
      "Epoch: 060, AUC: 0.7842, AP: 0.7812\n",
      "Epoch: 061, AUC: 0.7853, AP: 0.7820\n",
      "Epoch: 062, AUC: 0.7859, AP: 0.7827\n",
      "Epoch: 063, AUC: 0.7867, AP: 0.7836\n",
      "Epoch: 064, AUC: 0.7880, AP: 0.7848\n",
      "Epoch: 065, AUC: 0.7898, AP: 0.7863\n",
      "Epoch: 066, AUC: 0.7918, AP: 0.7881\n",
      "Epoch: 067, AUC: 0.7934, AP: 0.7896\n",
      "Epoch: 068, AUC: 0.7950, AP: 0.7912\n",
      "Epoch: 069, AUC: 0.7967, AP: 0.7930\n",
      "Epoch: 070, AUC: 0.7984, AP: 0.7947\n",
      "Epoch: 071, AUC: 0.8005, AP: 0.7967\n",
      "Epoch: 072, AUC: 0.8026, AP: 0.7988\n",
      "Epoch: 073, AUC: 0.8048, AP: 0.8011\n",
      "Epoch: 074, AUC: 0.8072, AP: 0.8035\n",
      "Epoch: 075, AUC: 0.8098, AP: 0.8063\n",
      "Epoch: 076, AUC: 0.8124, AP: 0.8090\n",
      "Epoch: 077, AUC: 0.8147, AP: 0.8116\n",
      "Epoch: 078, AUC: 0.8171, AP: 0.8142\n",
      "Epoch: 079, AUC: 0.8197, AP: 0.8168\n",
      "Epoch: 080, AUC: 0.8224, AP: 0.8195\n",
      "Epoch: 081, AUC: 0.8250, AP: 0.8221\n",
      "Epoch: 082, AUC: 0.8277, AP: 0.8248\n",
      "Epoch: 083, AUC: 0.8299, AP: 0.8269\n",
      "Epoch: 084, AUC: 0.8322, AP: 0.8292\n",
      "Epoch: 085, AUC: 0.8344, AP: 0.8312\n",
      "Epoch: 086, AUC: 0.8368, AP: 0.8336\n",
      "Epoch: 087, AUC: 0.8389, AP: 0.8355\n",
      "Epoch: 088, AUC: 0.8407, AP: 0.8371\n",
      "Epoch: 089, AUC: 0.8420, AP: 0.8386\n",
      "Epoch: 090, AUC: 0.8434, AP: 0.8397\n",
      "Epoch: 091, AUC: 0.8446, AP: 0.8409\n",
      "Epoch: 092, AUC: 0.8460, AP: 0.8421\n",
      "Epoch: 093, AUC: 0.8475, AP: 0.8435\n",
      "Epoch: 094, AUC: 0.8485, AP: 0.8446\n",
      "Epoch: 095, AUC: 0.8492, AP: 0.8454\n",
      "Epoch: 096, AUC: 0.8495, AP: 0.8457\n",
      "Epoch: 097, AUC: 0.8496, AP: 0.8459\n",
      "Epoch: 098, AUC: 0.8499, AP: 0.8460\n",
      "Epoch: 099, AUC: 0.8504, AP: 0.8463\n",
      "Epoch: 100, AUC: 0.8510, AP: 0.8469\n"
     ]
    }
   ],
   "source": [
    "for epoch in range(1, epochs + 1):\n",
    "    loss = train()\n",
    "    auc, ap = test(data.test_pos_edge_index, data.test_neg_edge_index)\n",
    "    print('Epoch: {:03d}, AUC: {:.4f}, AP: {:.4f}'.format(epoch, auc, ap))"
   ]
  },
  {
   "cell_type": "code",
   "execution_count": 23,
   "id": "cf80d38c",
   "metadata": {},
   "outputs": [
    {
     "data": {
      "text/plain": [
       "tensor([[ 0.4190,  0.4041],\n",
       "        [-0.5143,  1.1552],\n",
       "        [ 0.3302, -0.9620],\n",
       "        ...,\n",
       "        [-0.0927,  1.1178],\n",
       "        [ 1.4214,  0.1656],\n",
       "        [ 1.3833, -0.8801]], grad_fn=<AddBackward0>)"
      ]
     },
     "execution_count": 23,
     "metadata": {},
     "output_type": "execute_result"
    }
   ],
   "source": [
    "Z = model.encode(x, train_pos_edge_index)\n",
    "Z"
   ]
  },
  {
   "cell_type": "code",
   "execution_count": 27,
   "id": "d6b77931",
   "metadata": {},
   "outputs": [],
   "source": [
    "from torch.utils.tensorboard import SummaryWriter"
   ]
  },
  {
   "cell_type": "code",
   "execution_count": 28,
   "id": "e6359821",
   "metadata": {},
   "outputs": [],
   "source": [
    "writer = SummaryWriter('runs/GAE_experiment_'+'2d_100_epochs')"
   ]
  },
  {
   "cell_type": "code",
   "execution_count": 29,
   "id": "c253e354",
   "metadata": {},
   "outputs": [
    {
     "name": "stdout",
     "output_type": "stream",
     "text": [
      "Epoch: 001, AUC: 0.8516, AP: 0.8474\n",
      "Epoch: 002, AUC: 0.8518, AP: 0.8475\n",
      "Epoch: 003, AUC: 0.8517, AP: 0.8475\n",
      "Epoch: 004, AUC: 0.8519, AP: 0.8479\n",
      "Epoch: 005, AUC: 0.8521, AP: 0.8482\n",
      "Epoch: 006, AUC: 0.8522, AP: 0.8485\n",
      "Epoch: 007, AUC: 0.8527, AP: 0.8489\n",
      "Epoch: 008, AUC: 0.8529, AP: 0.8492\n",
      "Epoch: 009, AUC: 0.8530, AP: 0.8494\n",
      "Epoch: 010, AUC: 0.8529, AP: 0.8494\n",
      "Epoch: 011, AUC: 0.8526, AP: 0.8495\n",
      "Epoch: 012, AUC: 0.8521, AP: 0.8492\n",
      "Epoch: 013, AUC: 0.8522, AP: 0.8494\n",
      "Epoch: 014, AUC: 0.8526, AP: 0.8497\n",
      "Epoch: 015, AUC: 0.8529, AP: 0.8498\n",
      "Epoch: 016, AUC: 0.8530, AP: 0.8500\n",
      "Epoch: 017, AUC: 0.8527, AP: 0.8499\n",
      "Epoch: 018, AUC: 0.8526, AP: 0.8498\n",
      "Epoch: 019, AUC: 0.8522, AP: 0.8497\n",
      "Epoch: 020, AUC: 0.8522, AP: 0.8499\n",
      "Epoch: 021, AUC: 0.8523, AP: 0.8501\n",
      "Epoch: 022, AUC: 0.8523, AP: 0.8502\n",
      "Epoch: 023, AUC: 0.8523, AP: 0.8501\n",
      "Epoch: 024, AUC: 0.8524, AP: 0.8503\n",
      "Epoch: 025, AUC: 0.8524, AP: 0.8504\n",
      "Epoch: 026, AUC: 0.8521, AP: 0.8503\n",
      "Epoch: 027, AUC: 0.8519, AP: 0.8503\n",
      "Epoch: 028, AUC: 0.8519, AP: 0.8505\n",
      "Epoch: 029, AUC: 0.8519, AP: 0.8505\n",
      "Epoch: 030, AUC: 0.8519, AP: 0.8507\n",
      "Epoch: 031, AUC: 0.8519, AP: 0.8507\n",
      "Epoch: 032, AUC: 0.8520, AP: 0.8507\n",
      "Epoch: 033, AUC: 0.8522, AP: 0.8510\n",
      "Epoch: 034, AUC: 0.8521, AP: 0.8510\n",
      "Epoch: 035, AUC: 0.8521, AP: 0.8511\n",
      "Epoch: 036, AUC: 0.8520, AP: 0.8510\n",
      "Epoch: 037, AUC: 0.8517, AP: 0.8508\n",
      "Epoch: 038, AUC: 0.8516, AP: 0.8509\n",
      "Epoch: 039, AUC: 0.8514, AP: 0.8507\n",
      "Epoch: 040, AUC: 0.8513, AP: 0.8506\n",
      "Epoch: 041, AUC: 0.8514, AP: 0.8507\n",
      "Epoch: 042, AUC: 0.8514, AP: 0.8509\n",
      "Epoch: 043, AUC: 0.8514, AP: 0.8509\n",
      "Epoch: 044, AUC: 0.8514, AP: 0.8509\n",
      "Epoch: 045, AUC: 0.8511, AP: 0.8507\n",
      "Epoch: 046, AUC: 0.8510, AP: 0.8505\n",
      "Epoch: 047, AUC: 0.8510, AP: 0.8506\n",
      "Epoch: 048, AUC: 0.8508, AP: 0.8505\n",
      "Epoch: 049, AUC: 0.8508, AP: 0.8503\n",
      "Epoch: 050, AUC: 0.8508, AP: 0.8505\n",
      "Epoch: 051, AUC: 0.8510, AP: 0.8504\n",
      "Epoch: 052, AUC: 0.8509, AP: 0.8504\n",
      "Epoch: 053, AUC: 0.8508, AP: 0.8503\n",
      "Epoch: 054, AUC: 0.8507, AP: 0.8501\n",
      "Epoch: 055, AUC: 0.8508, AP: 0.8503\n",
      "Epoch: 056, AUC: 0.8508, AP: 0.8503\n",
      "Epoch: 057, AUC: 0.8503, AP: 0.8500\n",
      "Epoch: 058, AUC: 0.8503, AP: 0.8501\n",
      "Epoch: 059, AUC: 0.8502, AP: 0.8500\n",
      "Epoch: 060, AUC: 0.8502, AP: 0.8499\n",
      "Epoch: 061, AUC: 0.8502, AP: 0.8500\n",
      "Epoch: 062, AUC: 0.8501, AP: 0.8499\n",
      "Epoch: 063, AUC: 0.8502, AP: 0.8501\n",
      "Epoch: 064, AUC: 0.8503, AP: 0.8502\n",
      "Epoch: 065, AUC: 0.8500, AP: 0.8499\n",
      "Epoch: 066, AUC: 0.8498, AP: 0.8499\n",
      "Epoch: 067, AUC: 0.8496, AP: 0.8497\n",
      "Epoch: 068, AUC: 0.8495, AP: 0.8496\n",
      "Epoch: 069, AUC: 0.8494, AP: 0.8494\n",
      "Epoch: 070, AUC: 0.8495, AP: 0.8495\n",
      "Epoch: 071, AUC: 0.8494, AP: 0.8495\n",
      "Epoch: 072, AUC: 0.8494, AP: 0.8495\n",
      "Epoch: 073, AUC: 0.8494, AP: 0.8496\n",
      "Epoch: 074, AUC: 0.8491, AP: 0.8493\n",
      "Epoch: 075, AUC: 0.8492, AP: 0.8495\n",
      "Epoch: 076, AUC: 0.8492, AP: 0.8495\n",
      "Epoch: 077, AUC: 0.8490, AP: 0.8493\n",
      "Epoch: 078, AUC: 0.8488, AP: 0.8490\n",
      "Epoch: 079, AUC: 0.8488, AP: 0.8490\n",
      "Epoch: 080, AUC: 0.8488, AP: 0.8490\n",
      "Epoch: 081, AUC: 0.8487, AP: 0.8490\n",
      "Epoch: 082, AUC: 0.8486, AP: 0.8489\n",
      "Epoch: 083, AUC: 0.8484, AP: 0.8488\n",
      "Epoch: 084, AUC: 0.8484, AP: 0.8489\n",
      "Epoch: 085, AUC: 0.8483, AP: 0.8488\n",
      "Epoch: 086, AUC: 0.8483, AP: 0.8487\n",
      "Epoch: 087, AUC: 0.8484, AP: 0.8487\n",
      "Epoch: 088, AUC: 0.8484, AP: 0.8487\n",
      "Epoch: 089, AUC: 0.8482, AP: 0.8485\n",
      "Epoch: 090, AUC: 0.8482, AP: 0.8484\n",
      "Epoch: 091, AUC: 0.8481, AP: 0.8484\n",
      "Epoch: 092, AUC: 0.8481, AP: 0.8483\n",
      "Epoch: 093, AUC: 0.8481, AP: 0.8484\n",
      "Epoch: 094, AUC: 0.8479, AP: 0.8482\n",
      "Epoch: 095, AUC: 0.8475, AP: 0.8479\n",
      "Epoch: 096, AUC: 0.8475, AP: 0.8479\n",
      "Epoch: 097, AUC: 0.8473, AP: 0.8476\n",
      "Epoch: 098, AUC: 0.8472, AP: 0.8475\n",
      "Epoch: 099, AUC: 0.8471, AP: 0.8474\n",
      "Epoch: 100, AUC: 0.8469, AP: 0.8473\n"
     ]
    }
   ],
   "source": [
    "for epoch in range(1, epochs + 1):\n",
    "    loss = train()\n",
    "    auc, ap = test(data.test_pos_edge_index, data.test_neg_edge_index)\n",
    "    print('Epoch: {:03d}, AUC: {:.4f}, AP: {:.4f}'.format(epoch, auc, ap))\n",
    "    \n",
    "    writer.add_scalar('auc train', auc, epoch)\n",
    "    writer.add_scalar('ap train', ap, epoch)"
   ]
  },
  {
   "cell_type": "code",
   "execution_count": null,
   "id": "d70254a5",
   "metadata": {},
   "outputs": [],
   "source": []
  }
 ],
 "metadata": {
  "kernelspec": {
   "display_name": "Python 3",
   "language": "python",
   "name": "python3"
  },
  "language_info": {
   "codemirror_mode": {
    "name": "ipython",
    "version": 3
   },
   "file_extension": ".py",
   "mimetype": "text/x-python",
   "name": "python",
   "nbconvert_exporter": "python",
   "pygments_lexer": "ipython3",
   "version": "3.9.2"
  }
 },
 "nbformat": 4,
 "nbformat_minor": 5
}
